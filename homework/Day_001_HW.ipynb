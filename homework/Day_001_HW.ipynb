#!/usr/bin/env python
# coding: utf-8

# # [作業一]

# In[30]:


#$ MSE = \frac{1}{n}\sum_{i=1}^{n}{(Y_i - \hat{Y}_i)^2} $ (標準差)
import numpy as np
import matplotlib.pyplot as mp

#原本利用sum作變量,但會與當前功能衝突,因此須改變量名.

def mean_squared_error(y,y_hat):
    sumup=0
    
    sumup = sum(y-y_hat)**2 / len(y)
    
    return sumup



# In[35]:


import numpy as np
import matplotlib.pyplot as mp

def mean_absolute_error (y, y_hat):
    sumup = 0
    sumup = sum(abs(y-y_hat) )/ len(y)
    return sumup


# In[23]:


w = 3

b= 0.5

x_lin = np.linspace(0,100,101)
y = (x_lin + np.random.randn(101)*5) * w + b

mp.plot(x_lin, y, 'b.', label = 'data points')
mp.title('Assume we have data points')
mp.legend(loc = 2)
mp.show()
'''
'best'         : 0, (only implemented for axes legends)(默認)
'upper right'  : 1 ,
'upper left'    : 2,
'lower left'     : 3, 
'lower right'   : 4,
'right'            : 5,
'center left'    : 6,
'center right'  : 7,
'lower center' : 8,
'upper center' : 9,
'center'          : 10
'''


# In[13]:


y_hat = x_lin * w + b

mp.plot (x_lin, y, 'b.', label = 'data')

mp.plot(x_lin, y_hat, 'r-', label = 'prediction')

mp.title("Assume we have data points (And the prediction)")

mp.legend(loc = 2)

mp.show()


# In[37]:


MSE = mean_squared_error(y, y_hat)
MAE = mean_absolute_error(y, y_hat)
print("The Mean squared error is %.3f" % (MSE))
print("The Mean absolute error is %.3f" % (MAE))


# 作業二- Sales Conversion Optimization

# 1.因目前從事相關快銷品製造與零售產業,若能透過適當資料進行觀察、收集及分析進而了解
# 影響消費者購買產品之動機與誘因,藉以減少溝通成本之浪費,達到生產與消費雙方互惠之正向關係.
# 
# 2.本次選擇的主題是在 kaggle/Datasets 的資料集 ‘Sales Conversion Optimization‘, 資料來源
# 為某個匿名的社會組織所進行的廣告活動資料.
# 
# 3.該筆數據共有1143筆資料,共有11項變量,分別有連續變量（整數及小數點都有）及類別變量.
# 
# 4.誠如題目主旨,該公司想要了解如何將產品活動之轉化效益進行最佳化的調整,並紀錄消費者
# 看到產品活動後而詢問產品之次數及成功購買產品的次數作為該次產品活動效益評估之依據·
# 
# 
# 
# 

# 作業三-經營自由載客車隊,並如何透過數據分析以提升業績.

# 1.（1）問題：如何降低空車率,並提升司機收入. 
#     (2) 解決方案：調查消費者乘車熱點區域.
#     (3) 收入提升定義：公司司機回報收取的車資達10%月增長.
#   
# 2.資料獲取來源：
#        （1）每日行車記錄器定位資訊.
#          (2) 各縣市交通局處路網資料.
#        （3)  常用ＡＰＰ.
#          (4) 績優司機經驗洽詢.
#          
# 3.資料型態則須考量所設定之變量,如車速,車流量為連續性數值;交通意外,是否為空車狀態
#   為類別型態數值.
#   
# 4. 將資料進行統整分析後,並提供當前為空車狀態之司機前往載客熱點區域,並觀察其每週
#    收入之紀錄,進行後續調整與優化.
