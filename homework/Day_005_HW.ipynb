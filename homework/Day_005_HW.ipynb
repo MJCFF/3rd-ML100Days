{
 "cells": [
  {
   "cell_type": "markdown",
   "metadata": {},
   "source": [
    "# Day_005-1_HW\n",
    "練習創立ＤataFrame\n",
    "如何取出人口數最多國家\n"
   ]
  },
  {
   "cell_type": "code",
   "execution_count": 1,
   "metadata": {},
   "outputs": [],
   "source": [
    "import pandas as pd\n",
    "import numpy as nps"
   ]
  },
  {
   "cell_type": "code",
   "execution_count": 98,
   "metadata": {},
   "outputs": [
    {
     "name": "stdout",
     "output_type": "stream",
     "text": [
      "[('Country', ['US.', 'CN.', 'JP.', 'ROC.']), ('Population', [100, 30000, 10000, 100000])]\n"
     ]
    }
   ],
   "source": [
    "#data = {'Country':['US.','CN.','JP.','ROC.'],'Population':[100,30000,10000,100000]}\n",
    "Country = ['US.','CN.','JP.','ROC.']\n",
    "Population = [100,30000,10000,100000]\n",
    "list_Col = [Country,Population] \n",
    "list_labels =['Country','Population']\n",
    "#print(list_Col)\n",
    "#print(list_labels)\n",
    "ziped = list(zip(list_labels,list_Col))\n",
    "print(ziped)"
   ]
  },
  {
   "cell_type": "code",
   "execution_count": 99,
   "metadata": {},
   "outputs": [
    {
     "name": "stdout",
     "output_type": "stream",
     "text": [
      "  Country  Population\n",
      "0     US.         100\n",
      "1     CN.       30000\n",
      "2     JP.       10000\n",
      "3    ROC.      100000\n"
     ]
    }
   ],
   "source": [
    "MPC = pd.DataFrame(dict(ziped))\n",
    "print(MPC)"
   ]
  },
  {
   "cell_type": "code",
   "execution_count": 100,
   "metadata": {},
   "outputs": [
    {
     "name": "stdout",
     "output_type": "stream",
     "text": [
      "  Country  Population\n",
      "3    ROC.      100000\n",
      "1     CN.       30000\n",
      "2     JP.       10000\n",
      "0     US.         100\n"
     ]
    }
   ],
   "source": [
    "#降冪方法\n",
    "print(MPC.sort_values('Population',ascending=False)) \n",
    "\n",
    "\n",
    "\n",
    "\n"
   ]
  },
  {
   "cell_type": "code",
   "execution_count": null,
   "metadata": {},
   "outputs": [],
   "source": []
  }
 ],
 "metadata": {
  "kernelspec": {
   "display_name": "Python 3",
   "language": "python",
   "name": "python3"
  },
  "language_info": {
   "codemirror_mode": {
    "name": "ipython",
    "version": 3
   },
   "file_extension": ".py",
   "mimetype": "text/x-python",
   "name": "python",
   "nbconvert_exporter": "python",
   "pygments_lexer": "ipython3",
   "version": "3.7.3"
  }
 },
 "nbformat": 4,
 "nbformat_minor": 2
}
