{
 "cells": [
  {
   "cell_type": "markdown",
   "metadata": {},
   "source": [
    "# 請觀看李宏毅教授以神奇寶貝進化 CP 值預測的範例，解說何謂機器學習與過擬合。\n",
    "\n",
    "影片連結：ML Lecture 1: Regression - Case Study\n",
    "\n",
    "\n",
    "看完影片請回答以下問題：\n",
    "1. 模型的泛化能力 (generalization) 是指什麼？\n",
    "2. 分類問題與回歸問題分別可用的目標函數有哪些？"
   ]
  },
  {
   "cell_type": "markdown",
   "metadata": {},
   "source": [
    "1. 模型的泛化能力 (generalization) 是指什麼？\n",
    "Ans:該模型預測目標結果狀態,可以類推到新的樣本.\n",
    "=>泛化能力越高,代表該模型對於原始訓練樣本及新的測驗樣本其預測結果有高一致性."
   ]
  },
  {
   "cell_type": "markdown",
   "metadata": {},
   "source": [
    "2. 分類問題與回歸問題分別可用的目標函數有哪些？\n",
    "Ans:\n",
    "分類問題損失函數：交叉熵(cross-entropy)等....\n",
    "\n",
    "回歸問題損失函數：1.平均絕對誤差——L1損失函數(MAE),2.均方誤差——L2損失函數(MSE),Huber損失函數,Log-Cosh損失函數及分位數損失函數等...\n",
    " \n",
    "\n",
    "回歸損失說明連結：https://bigdatafinance.tw/index.php/news/607-5\n",
    "分類損失函數說明連結：https://medium.com/@chih.sheng.huang821/%E6%A9%9F%E5%99%A8-%E6%B7%B1%E5%BA%A6%E5%AD%B8%E7%BF%92-%E5%9F%BA%E7%A4%8E%E4%BB%8B%E7%B4%B9-%E6%90%8D%E5%A4%B1%E5%87%BD%E6%95%B8-loss-function-2dcac5ebb6cb"
   ]
  }
 ],
 "metadata": {
  "kernelspec": {
   "display_name": "Python 3",
   "language": "python",
   "name": "python3"
  },
  "language_info": {
   "codemirror_mode": {
    "name": "ipython",
    "version": 3
   },
   "file_extension": ".py",
   "mimetype": "text/x-python",
   "name": "python",
   "nbconvert_exporter": "python",
   "pygments_lexer": "ipython3",
   "version": "3.7.3"
  }
 },
 "nbformat": 4,
 "nbformat_minor": 2
}
