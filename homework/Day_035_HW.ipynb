{
 "cells": [
  {
   "cell_type": "markdown",
   "metadata": {},
   "source": [
    "# 練習時間\n",
    "相信大家對回歸問題及分類問題都有初步的了解。今天的作業希望大家搜尋有關 multi-label 的案例問題。下圖是電影 \"奇異博士\" 的分類。可以看到同時有 \"Action\", \"Adventure\", \"Fantasy\" 的類別存在，代表這是個多標籤的問題。\n",
    "請搜尋目標為多標籤問題 (Multi-label) 的機器學習案例，了解其資料來源、目標以及評估指標為何\n",
    "\n",
    "Hint: 服飾 參考連接：https://kknews.cc/zh-tw/code/ygpkm4j.html"
   ]
  },
  {
   "cell_type": "markdown",
   "metadata": {},
   "source": [
    "依據上述連結提供有關服飾進行多標籤問題之說明,\n",
    "目標是：能夠快速將相關服飾圖像進行分類.\n",
    "=>其評估指標可包含衣服,褲子及相關衣物配件之服飾圖像,並觀察其分辨出服飾顏色,服飾樣式(褲子,裙子及其相關配件...)之正確率.\n",
    "\n",
    "上述,除了能快速完成相關圖像分類過程,還能利用相關物件其相互搭配之機率提供客制化的推薦意見.\n",
    "\n"
   ]
  }
 ],
 "metadata": {
  "kernelspec": {
   "display_name": "Python 3",
   "language": "python",
   "name": "python3"
  },
  "language_info": {
   "codemirror_mode": {
    "name": "ipython",
    "version": 3
   },
   "file_extension": ".py",
   "mimetype": "text/x-python",
   "name": "python",
   "nbconvert_exporter": "python",
   "pygments_lexer": "ipython3",
   "version": "3.7.3"
  }
 },
 "nbformat": 4,
 "nbformat_minor": 2
}
