{
 "cells": [
  {
   "cell_type": "markdown",
   "metadata": {},
   "source": [
    "# 作業\n",
    "請閱讀相關文獻，並回答下列問題\n",
    "\n",
    "脊回歸 (Ridge Regression) Linear, Ridge, Lasso Regression 本質區別\n",
    "\n",
    "作業一：LASSO 回歸可以被用來作為 Feature selection 的工具，請了解 LASSO 模型為什麼可用來作 Feature selection\n",
    "作業二：當自變數 (X) 存在高度共線性時，Ridge Regression 可以處理這樣的問題嗎?"
   ]
  },
  {
   "cell_type": "markdown",
   "metadata": {},
   "source": [
    "作業一：\n",
    "Ans:\n",
    "統整相關從資訊可以發現Ridge Regression & Lasso Regression有以下特性：\n",
    "\n",
    "    1.對於特徵值參數進行調整優化,控制MSE(Mean-Square Error)避免過大影響整體模型精度表現.\n",
    "   \n",
    "    2.使用時都需要先將特徵值進行標準化處理.\n",
    "\n",
    "    另外,Ridge Regression是將特徵值參數進行平方後進行篩選,Lasso Regression則是考量特徵參數的絕對值大小進行篩選,藉此優化整體回歸模型.\n",
    "\n",
    "    因此前項調參法在進行優化過程中,若參數平方後其值足夠小而不影響整體回歸模型效能的參數將得以保留,然而後項調參法因考量特徵值參數的絕對值大小對回歸模型的影響,因此被認被不重要的參數最終會被壓縮到零,因此Lasso Regression 是可用來作為特徵值篩選的工具之一.\n",
    "\n",
    "作業二：\n",
    "Ａns:\n",
    "    若資料樣本呈現高度共線性,Ridge Regression可以進行處理,但無法進行特徵篩選.\n",
    "    \n",
    "\n",
    "\n",
    "\n"
   ]
  }
 ],
 "metadata": {
  "kernelspec": {
   "display_name": "Python 3",
   "language": "python",
   "name": "python3"
  },
  "language_info": {
   "codemirror_mode": {
    "name": "ipython",
    "version": 3
   },
   "file_extension": ".py",
   "mimetype": "text/x-python",
   "name": "python",
   "nbconvert_exporter": "python",
   "pygments_lexer": "ipython3",
   "version": "3.7.3"
  }
 },
 "nbformat": 4,
 "nbformat_minor": 2
}
