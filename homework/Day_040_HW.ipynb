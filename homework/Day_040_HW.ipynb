{
 "cells": [
  {
   "cell_type": "markdown",
   "metadata": {},
   "source": [
    "# [作業重點]\n",
    "使用 Sklearn 中的 Lasso, Ridge 模型，來訓練各種資料集，務必了解送進去模型訓練的資料型態為何，也請了解模型中各項參數的意義。\n",
    "\n",
    "機器學習的模型非常多種，但要訓練的資料多半有固定的格式，確保你了解訓練資料的格式為何，這樣在應用新模型時，就能夠最快的上手開始訓練！\n",
    "\n",
    "練習時間\n",
    "試著使用 sklearn datasets 的其他資料集 (boston, ...)，來訓練自己的線性迴歸模型，並加上適當的正則化來觀察訓練情形。"
   ]
  },
  {
   "cell_type": "code",
   "execution_count": 336,
   "metadata": {},
   "outputs": [],
   "source": [
    "import numpy as np\n",
    "import pandas as pd\n",
    "import matplotlib.pyplot as plt\n",
    "from sklearn import datasets,linear_model\n",
    "from sklearn.model_selection import train_test_split\n",
    "from sklearn.metrics import mean_squared_error, r2_score"
   ]
  },
  {
   "cell_type": "code",
   "execution_count": 337,
   "metadata": {},
   "outputs": [],
   "source": [
    "#wine = datasets.load_wine()\n",
    "#x_train,x_test,y_train,y_test = train_test_split\\\n",
    "#(wine.data,wine.target,test_size=0.2,random_state = 4)\n",
    "boston = datasets.load_boston()\n",
    "x_train,x_test,y_train,y_test = train_test_split\\\n",
    "(boston.data,boston.target,test_size=0.2,random_state = 4)"
   ]
  },
  {
   "cell_type": "code",
   "execution_count": 338,
   "metadata": {},
   "outputs": [],
   "source": [
    "lg = linear_model.LinearRegression()\n",
    "lg.fit(x_train,y_train)\n",
    "y_pred = lg.predict(x_test)"
   ]
  },
  {
   "cell_type": "code",
   "execution_count": 339,
   "metadata": {},
   "outputs": [
    {
     "name": "stdout",
     "output_type": "stream",
     "text": [
      "[-1.15966452e-01  4.71249231e-02  8.25980146e-03  3.23404531e+00\n",
      " -1.66865890e+01  3.88410651e+00 -1.08974442e-02 -1.54129540e+00\n",
      "  2.93208309e-01 -1.34059383e-02 -9.06296429e-01  8.80823439e-03\n",
      " -4.57723846e-01]\n"
     ]
    }
   ],
   "source": [
    "print(lg.coef_)"
   ]
  },
  {
   "cell_type": "code",
   "execution_count": 340,
   "metadata": {},
   "outputs": [
    {
     "name": "stdout",
     "output_type": "stream",
     "text": [
      "Mean_squared_error:25.42\n"
     ]
    }
   ],
   "source": [
    "print('Mean_squared_error:%.2f'%mean_squared_error(y_test,y_pred))"
   ]
  },
  {
   "cell_type": "markdown",
   "metadata": {},
   "source": [
    "# LASSO"
   ]
  },
  {
   "cell_type": "code",
   "execution_count": 341,
   "metadata": {},
   "outputs": [],
   "source": [
    "#wine = datasets.load_wine()\n",
    "#x_train,x_test,y_train,y_test = train_test_split\\\n",
    "#(wine.data,wine.target,test_size=0.2,random_state = 4)\n",
    "\n",
    "x_train,x_test,y_train,y_test = train_test_split\\\n",
    "(boston.data,boston.target,test_size=0.2,random_state = 4)\n",
    "lasso = linear_model.Lasso(alpha=0.3)\n",
    "lasso.fit(x_train,y_train)\n",
    "y_pred = lasso.predict(x_test)"
   ]
  },
  {
   "cell_type": "code",
   "execution_count": 342,
   "metadata": {},
   "outputs": [
    {
     "name": "stdout",
     "output_type": "stream",
     "text": [
      "[-0.09855422  0.04870073 -0.02312395  0.         -0.          3.26381653\n",
      " -0.01153515 -1.11060846  0.26323033 -0.01580522 -0.74800739  0.00933465\n",
      " -0.54713872]\n"
     ]
    }
   ],
   "source": [
    "print(lasso.coef_)"
   ]
  },
  {
   "cell_type": "code",
   "execution_count": 343,
   "metadata": {},
   "outputs": [
    {
     "name": "stdout",
     "output_type": "stream",
     "text": [
      "Mean_squared_error:26.65\n"
     ]
    }
   ],
   "source": [
    "print('Mean_squared_error:%.2f'%mean_squared_error(y_test,y_pred))"
   ]
  },
  {
   "cell_type": "markdown",
   "metadata": {},
   "source": [
    "# Ridge"
   ]
  },
  {
   "cell_type": "code",
   "execution_count": 344,
   "metadata": {},
   "outputs": [],
   "source": [
    "#wine = datasets.load_wine()\n",
    "#x_train,x_test,y_train,y_test = train_test_split\\\n",
    "#(wine.data,wine.target,test_size=0.2,random_state = 4)\n",
    "x_train,x_test,y_train,y_test = train_test_split\\\n",
    "(boston.data,boston.target,test_size=0.2,random_state = 4)\n",
    "\n",
    "ridge = linear_model.Ridge(alpha=0.3)\n",
    "ridge.fit(x_train,y_train)\n",
    "y_pred = ridge.predict(x_test)"
   ]
  },
  {
   "cell_type": "code",
   "execution_count": 345,
   "metadata": {},
   "outputs": [
    {
     "name": "stdout",
     "output_type": "stream",
     "text": [
      "[-1.14440833e-01  4.74655954e-02 -5.82205210e-03  3.13107153e+00\n",
      " -1.35035586e+01  3.90852838e+00 -1.37563477e-02 -1.49461840e+00\n",
      "  2.85214450e-01 -1.36071503e-02 -8.73357569e-01  8.95943721e-03\n",
      " -4.61131388e-01]\n"
     ]
    }
   ],
   "source": [
    "print(ridge.coef_)"
   ]
  },
  {
   "cell_type": "code",
   "execution_count": 346,
   "metadata": {},
   "outputs": [
    {
     "name": "stdout",
     "output_type": "stream",
     "text": [
      "mean_squared_error:25.53\n"
     ]
    }
   ],
   "source": [
    "print('mean_squared_error:%.2f'%mean_squared_error(y_test,y_pred))"
   ]
  },
  {
   "cell_type": "code",
   "execution_count": null,
   "metadata": {},
   "outputs": [],
   "source": []
  }
 ],
 "metadata": {
  "kernelspec": {
   "display_name": "Python 3",
   "language": "python",
   "name": "python3"
  },
  "language_info": {
   "codemirror_mode": {
    "name": "ipython",
    "version": 3
   },
   "file_extension": ".py",
   "mimetype": "text/x-python",
   "name": "python",
   "nbconvert_exporter": "python",
   "pygments_lexer": "ipython3",
   "version": "3.7.3"
  }
 },
 "nbformat": 4,
 "nbformat_minor": 2
}
