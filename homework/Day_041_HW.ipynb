{
 "cells": [
  {
   "cell_type": "markdown",
   "metadata": {},
   "source": [
    "# 作業\n",
    "閱讀以下兩篇文獻，了解決策樹原理，並試著回答後續的問題\n",
    "\n",
    "決策樹 (Decision Tree) - 中文\n",
    "how decision tree works - 英文\n",
    "\n",
    "在分類問題中，若沒有任何限制，決策樹有辦法在訓練時將 training loss 完全降成 0 嗎？\n",
    "\n",
    "決策樹只能用在分類問題嗎？還是可以用來解決回歸問題？"
   ]
  },
  {
   "cell_type": "markdown",
   "metadata": {},
   "source": [
    "作業一：在分類問題中，若沒有任何限制，決策樹有辦法在訓練時將 training loss 完全降成 0 嗎？\n",
    "Ans: 理論上,可以.但會伴隨著overfitting,且模型精度下降等問題."
   ]
  },
  {
   "cell_type": "markdown",
   "metadata": {},
   "source": [
    "作業二：\n",
    "Ans:本質上,決策樹可以處理分類及回歸問題.不論分類以及回歸問題,皆是以預測值與原樣本之間的誤差進行分類或預測,因此分類誤差經過平方轉換,理論上即可作為回歸預測的一種模式."
   ]
  },
  {
   "cell_type": "code",
   "execution_count": null,
   "metadata": {},
   "outputs": [],
   "source": []
  }
 ],
 "metadata": {
  "kernelspec": {
   "display_name": "Python 3",
   "language": "python",
   "name": "python3"
  },
  "language_info": {
   "codemirror_mode": {
    "name": "ipython",
    "version": 3
   },
   "file_extension": ".py",
   "mimetype": "text/x-python",
   "name": "python",
   "nbconvert_exporter": "python",
   "pygments_lexer": "ipython3",
   "version": "3.7.3"
  }
 },
 "nbformat": 4,
 "nbformat_minor": 2
}
