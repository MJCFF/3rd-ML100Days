{
 "cells": [
  {
   "cell_type": "markdown",
   "metadata": {},
   "source": [
    "# [作業重點]\n",
    "目前你應該已經要很清楚資料集中，資料的型態是什麼樣子囉！包含特徵 (features) 與標籤 (labels)。因此要記得未來不管什麼專案，必須要把資料清理成相同的格式，才能送進模型訓練。 今天的作業開始踏入決策樹這個非常重要的模型，請務必確保你理解模型中每個超參數的意思，並試著調整看看，對最終預測結果的影響為何\n",
    "\n",
    "作業\n",
    "試著調整 DecisionTreeClassifier(...) 中的參數，並觀察是否會改變結果？\n",
    "改用其他資料集 (boston, wine)，並與回歸模型的結果進行比較"
   ]
  },
  {
   "cell_type": "markdown",
   "metadata": {},
   "source": [
    "建立模型四步驟\n",
    "在 Scikit-learn 中，建立一個機器學習的模型其實非常簡單，流程大略是以下四個步驟\n",
    "\n",
    "讀進資料，並檢查資料的 shape (有多少 samples (rows), 多少 features (columns)，label 的型態是什麼？)\n",
    "讀取資料的方法：\n",
    "使用 pandas 讀取 .csv 檔：pd.read_csv\n",
    "使用 numpy 讀取 .txt 檔：np.loadtxt\n",
    "使用 Scikit-learn 內建的資料集：sklearn.datasets.load_xxx\n",
    "檢查資料數量：data.shape (data should be np.array or dataframe)\n",
    "將資料切為訓練 (train) / 測試 (test)\n",
    "train_test_split(data)\n",
    "建立模型，將資料 fit 進模型開始訓練\n",
    "clf = DecisionTreeClassifier()\n",
    "clf.fit(x_train, y_train)\n",
    "將測試資料 (features) 放進訓練好的模型中，得到 prediction，與測試資料的 label (y_test) 做評估\n",
    "clf.predict(x_test)\n",
    "accuracy_score(y_test, y_pred)\n",
    "f1_score(y_test, y_pred)"
   ]
  },
  {
   "cell_type": "code",
   "execution_count": 231,
   "metadata": {},
   "outputs": [],
   "source": [
    "import numpy as np\n",
    "import pandas as pd\n",
    "from sklearn import datasets,linear_model\n",
    "from sklearn.metrics import mean_squared_error,r2_score,accuracy_score\n",
    "from sklearn.tree import DecisionTreeClassifier,DecisionTreeRegressor\n",
    "from sklearn.model_selection import train_test_split\n",
    "import warnings\n",
    "warnings.filterwarnings('ignore')\n"
   ]
  },
  {
   "cell_type": "code",
   "execution_count": 232,
   "metadata": {},
   "outputs": [],
   "source": [
    "#利用entropy的準確度大於gini(0.91111)\n",
    "wine = datasets.load_wine()\n",
    "x_train,x_test,y_train,y_test = train_test_split(wine.data,wine.target,test_size=0.25,random_state=4)\n",
    "#clf = DecisionTreeClassifier(criterion='gini',max_depth=50 ,min_samples_split=2,min_samples_leaf=1)\n",
    "clf = DecisionTreeClassifier(criterion='entropy',max_depth=50 ,min_samples_split=2,min_samples_leaf=1)\n",
    "clf.fit(x_train,y_train)\n",
    "y_pred = clf.predict(x_test)\n",
    "acc = metrics.accuracy_score(y_test,y_pred)"
   ]
  },
  {
   "cell_type": "code",
   "execution_count": 233,
   "metadata": {},
   "outputs": [
    {
     "name": "stdout",
     "output_type": "stream",
     "text": [
      "Accuracy: 0.9777777777777777\n",
      "['alcohol', 'malic_acid', 'ash', 'alcalinity_of_ash', 'magnesium', 'total_phenols', 'flavanoids', 'nonflavanoid_phenols', 'proanthocyanins', 'color_intensity', 'hue', 'od280/od315_of_diluted_wines', 'proline']\n"
     ]
    }
   ],
   "source": [
    "print('Accuracy:',acc)\n",
    "print(wine.feature_names)"
   ]
  },
  {
   "cell_type": "code",
   "execution_count": 234,
   "metadata": {},
   "outputs": [
    {
     "name": "stdout",
     "output_type": "stream",
     "text": [
      "Feature importance [0.         0.         0.         0.         0.01571782 0.\n",
      " 0.41359716 0.         0.         0.2188998  0.         0.\n",
      " 0.35178521]\n"
     ]
    }
   ],
   "source": [
    "print('Feature importance',clf.feature_importances_)"
   ]
  },
  {
   "cell_type": "code",
   "execution_count": 235,
   "metadata": {},
   "outputs": [
    {
     "name": "stdout",
     "output_type": "stream",
     "text": [
      "Mean_squared_error:30.13\n",
      "['CRIM' 'ZN' 'INDUS' 'CHAS' 'NOX' 'RM' 'AGE' 'DIS' 'RAD' 'TAX' 'PTRATIO'\n",
      " 'B' 'LSTAT']\n",
      "Feature importance [0.06387798 0.00120684 0.0099943  0.00976958 0.02909348 0.54279373\n",
      " 0.01770718 0.0581692  0.00128832 0.01298155 0.01963859 0.00924515\n",
      " 0.22423409]\n"
     ]
    }
   ],
   "source": [
    "boston = datasets.load_boston()\n",
    "x_train,x_test,y_train,y_test = train_test_split(boston.data,boston.target,test_size=0.25,random_state=4)\n",
    "#clf = DecisionTreeClassifier(criterion='gini',max_depth=50 ,min_samples_split=2,min_samples_leaf=1)\n",
    "clg = DecisionTreeRegressor(criterion='mse',max_depth=500 ,min_samples_split=2,min_samples_leaf=1)\n",
    "clg.fit(x_train,y_train)\n",
    "y_pred = clg.predict(x_test)\n",
    "\n",
    "#print('coefficients',clg.coef_)\n",
    "print('Mean_squared_error:%.2f'%mean_squared_error(y_test,y_pred))\n",
    "print(boston.feature_names)\n",
    "print('Feature importance',clg.feature_importances_)"
   ]
  },
  {
   "cell_type": "code",
   "execution_count": 236,
   "metadata": {},
   "outputs": [
    {
     "name": "stdout",
     "output_type": "stream",
     "text": [
      "[-0.09855422  0.04870073 -0.02312395  0.         -0.          3.26381653\n",
      " -0.01153515 -1.11060846  0.26323033 -0.01580522 -0.74800739  0.00933465\n",
      " -0.54713872]\n",
      "Mean_squared_error:26.65\n"
     ]
    }
   ],
   "source": [
    "#LASSO\n",
    "x_train,x_test,y_train,y_test = train_test_split\\\n",
    "(boston.data,boston.target,test_size=0.2,random_state = 4)\n",
    "lasso = linear_model.Lasso(alpha=0.3)\n",
    "lasso.fit(x_train,y_train)\n",
    "y_pred = lasso.predict(x_test)\n",
    "print(lasso.coef_)\n",
    "print('Mean_squared_error:%.2f'%mean_squared_error(y_test,y_pred))\n"
   ]
  },
  {
   "cell_type": "code",
   "execution_count": 237,
   "metadata": {},
   "outputs": [
    {
     "name": "stdout",
     "output_type": "stream",
     "text": [
      "[-1.14440833e-01  4.74655954e-02 -5.82205210e-03  3.13107153e+00\n",
      " -1.35035586e+01  3.90852838e+00 -1.37563477e-02 -1.49461840e+00\n",
      "  2.85214450e-01 -1.36071503e-02 -8.73357569e-01  8.95943721e-03\n",
      " -4.61131388e-01]\n",
      "mean_squared_error:25.53\n"
     ]
    }
   ],
   "source": [
    "#Ridge\n",
    "x_train,x_test,y_train,y_test = train_test_split\\\n",
    "(boston.data,boston.target,test_size=0.2,random_state = 4)\n",
    "\n",
    "ridge = linear_model.Ridge(alpha=0.3)\n",
    "ridge.fit(x_train,y_train)\n",
    "y_pred = ridge.predict(x_test)\n",
    "print(ridge.coef_)\n",
    "print('mean_squared_error:%.2f'%mean_squared_error(y_test,y_pred))\n"
   ]
  },
  {
   "cell_type": "markdown",
   "metadata": {},
   "source": [
    "\n",
    "作業1：試著調整 DecisionTreeClassifier(...) 中的參數，並觀察是否會改變結果？\n",
    "Ans:由上述wine()資料之分類數可知,使用 Gini or Entropy 會影響模型表現.\n",
    "\n",
    "作業2：改用其他資料集 (boston)，並與回歸模型的結果進行比較\n",
    "Ans:以boston資料集進行討論,發現決策樹與Lasso及Ｒidge的MSE表現相異不大,這也支持決策樹是可應用於回歸問題之解決方案上.\n",
    "\n"
   ]
  },
  {
   "cell_type": "code",
   "execution_count": null,
   "metadata": {},
   "outputs": [],
   "source": []
  }
 ],
 "metadata": {
  "kernelspec": {
   "display_name": "Python 3",
   "language": "python",
   "name": "python3"
  },
  "language_info": {
   "codemirror_mode": {
    "name": "ipython",
    "version": 3
   },
   "file_extension": ".py",
   "mimetype": "text/x-python",
   "name": "python",
   "nbconvert_exporter": "python",
   "pygments_lexer": "ipython3",
   "version": "3.7.3"
  }
 },
 "nbformat": 4,
 "nbformat_minor": 2
}
