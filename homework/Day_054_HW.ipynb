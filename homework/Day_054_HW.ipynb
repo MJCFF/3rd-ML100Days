{
 "cells": [
  {
   "cell_type": "markdown",
   "metadata": {},
   "source": [
    "# 試著想想看, 非監督學習是否有可能使用評價函數 (Metric) 來鑑別好壞呢?\n",
    "(Hint : 可以分為 \"有目標值\" 與 \"無目標值\" 兩個方向思考)"
   ]
  },
  {
   "cell_type": "markdown",
   "metadata": {},
   "source": [
    "Ans:\n",
    "    關於執行非監督學習,其中主要方法為分群及降維,其代表方法為K-maen及PCA.\n",
    "在討論其模型成效時,於K-mean會提及輪廓係數,PCA則是會提到Reconstruction error,皆是探討預測值與原始樣本\n",
    "之間距離的關係,以作為評估模型好壞之依據.\n",
    "\n",
    "綜合以上所述,無論是否要目標值,理論上皆可使用評價函數來鑑別模型狀況.\n",
    "\n",
    "\n",
    "\n",
    "\n",
    "\n",
    "\n",
    "\n"
   ]
  }
 ],
 "metadata": {
  "kernelspec": {
   "display_name": "Python 3",
   "language": "python",
   "name": "python3"
  },
  "language_info": {
   "codemirror_mode": {
    "name": "ipython",
    "version": 3
   },
   "file_extension": ".py",
   "mimetype": "text/x-python",
   "name": "python",
   "nbconvert_exporter": "python",
   "pygments_lexer": "ipython3",
   "version": "3.7.3"
  }
 },
 "nbformat": 4,
 "nbformat_minor": 2
}
