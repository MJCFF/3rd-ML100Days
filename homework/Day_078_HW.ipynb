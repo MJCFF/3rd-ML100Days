{
 "cells": [
  {
   "cell_type": "markdown",
   "metadata": {},
   "source": [
    "# Work\n",
    "請嘗試將 preproc_x 替換成以每筆資料的 min/max 進行標準化至 -1 ~ 1 間，再進行訓練\n",
    "請嘗試將 mlp 疊更深 (e.g 5~10 層)，進行訓練後觀察 learning curve 的走勢\n",
    "(optional) 請改用 GPU 進行訓練 (如果你有 GPU 的話)，比較使用 CPU 與 GPU 的訓練速度"
   ]
  },
  {
   "cell_type": "markdown",
   "metadata": {},
   "source": [
    "學習在模型開始前檢查各個環節\n",
    "是否有 GPU 資源\n",
    "將前處理轉為函式，統一處理訓練、驗證與測試集\n",
    "將超參數變數化，易於重複使用函式、模型等"
   ]
  },
  {
   "cell_type": "code",
   "execution_count": 1,
   "metadata": {},
   "outputs": [
    {
     "name": "stderr",
     "output_type": "stream",
     "text": [
      "Using TensorFlow backend.\n"
     ]
    }
   ],
   "source": [
    "## \n",
    "\"\"\"\n",
    "Your code here (optional)\n",
    "確認硬體資源\n",
    "\"\"\"\n",
    "\n",
    "import os\n",
    "import keras\n",
    "\n",
    "# 本範例不需使用 GPU, 將 GPU 設定為 \"無\"\n",
    "os.environ[\"CUDA_VISIBLE_DEVICES\"] = \"\"\n"
   ]
  },
  {
   "cell_type": "code",
   "execution_count": 2,
   "metadata": {},
   "outputs": [],
   "source": [
    "train, test = keras.datasets.cifar10.load_data()"
   ]
  },
  {
   "cell_type": "code",
   "execution_count": 3,
   "metadata": {},
   "outputs": [],
   "source": [
    "## 資料前處理\n",
    "\"\"\"\n",
    "Your code here\n",
    "\"\"\"\n",
    "## 資料前處理 one hot\n",
    "def preproc_x(x, flatten=True):\n",
    "    x = x / 255.\n",
    "    if flatten:\n",
    "        x = x.reshape((len(x), -1))\n",
    "    return x\n",
    "\n",
    "def preproc_y(y, num_classes=10):\n",
    "    if y.shape[-1] == 1:\n",
    "        y = keras.utils.to_categorical(y, num_classes)\n",
    "    return y    "
   ]
  },
  {
   "cell_type": "code",
   "execution_count": 4,
   "metadata": {},
   "outputs": [],
   "source": [
    "x_train, y_train = train\n",
    "x_test, y_test = test\n",
    "\n",
    "# 資料前處理 - X 標準化\n",
    "x_train = preproc_x(x_train)\n",
    "x_test = preproc_x(x_test)\n",
    "\n",
    "# 資料前處理 -Y 轉成 onehot\n",
    "y_train = preproc_y(y_train)\n",
    "y_test = preproc_y(y_test)"
   ]
  },
  {
   "cell_type": "markdown",
   "metadata": {},
   "source": [
    " mlp 5 層"
   ]
  },
  {
   "cell_type": "code",
   "execution_count": 5,
   "metadata": {},
   "outputs": [],
   "source": [
    "\"\"\"Code Here\n",
    "建立你的神經網路\n",
    "\"\"\"\n",
    "\n",
    "def build_mlp(input_shape=5, output_units=10, num_neurons=[512, 256, 128]):\n",
    "    input_layer = keras.layers.Input(input_shape)\n",
    "    \n",
    "    for i, n_units in enumerate(num_neurons):\n",
    "        if i == 0:\n",
    "            x = keras.layers.Dense(units=n_units, activation=\"relu\", name=\"hidden_layer\"+str(i+1))(input_layer)\n",
    "        else:\n",
    "            x = keras.layers.Dense(units=n_units, activation=\"relu\", name=\"hidden_layer\"+str(i+1))(x)\n",
    "    \n",
    "    out = keras.layers.Dense(units=output_units, activation=\"softmax\", name=\"output\")(x)\n",
    "    \n",
    "    model = keras.models.Model(inputs=[input_layer], outputs=[out])\n",
    "    return model"
   ]
  },
  {
   "cell_type": "code",
   "execution_count": 6,
   "metadata": {},
   "outputs": [
    {
     "name": "stdout",
     "output_type": "stream",
     "text": [
      "Model: \"model_1\"\n",
      "_________________________________________________________________\n",
      "Layer (type)                 Output Shape              Param #   \n",
      "=================================================================\n",
      "input_1 (InputLayer)         (None, 3072)              0         \n",
      "_________________________________________________________________\n",
      "hidden_layer1 (Dense)        (None, 512)               1573376   \n",
      "_________________________________________________________________\n",
      "hidden_layer2 (Dense)        (None, 256)               131328    \n",
      "_________________________________________________________________\n",
      "hidden_layer3 (Dense)        (None, 128)               32896     \n",
      "_________________________________________________________________\n",
      "output (Dense)               (None, 10)                1290      \n",
      "=================================================================\n",
      "Total params: 1,738,890\n",
      "Trainable params: 1,738,890\n",
      "Non-trainable params: 0\n",
      "_________________________________________________________________\n"
     ]
    }
   ],
   "source": [
    "model = build_mlp(input_shape=x_train.shape[1:])\n",
    "model.summary()"
   ]
  },
  {
   "cell_type": "code",
   "execution_count": 7,
   "metadata": {},
   "outputs": [],
   "source": [
    "## 超參數設定\n",
    "LEARNING_RATE = 0.001\n",
    "EPOCHS = 100\n",
    "BATCH_SIZE = 256"
   ]
  },
  {
   "cell_type": "code",
   "execution_count": 8,
   "metadata": {},
   "outputs": [],
   "source": [
    "optimizer = keras.optimizers.Adam(lr=LEARNING_RATE)\n",
    "model.compile(loss=\"categorical_crossentropy\", metrics=[\"accuracy\"], optimizer=optimizer)"
   ]
  },
  {
   "cell_type": "code",
   "execution_count": 9,
   "metadata": {},
   "outputs": [
    {
     "name": "stdout",
     "output_type": "stream",
     "text": [
      "Train on 50000 samples, validate on 10000 samples\n",
      "Epoch 1/100\n",
      "50000/50000 [==============================] - 8s 156us/step - loss: 1.9614 - accuracy: 0.2893 - val_loss: 1.8239 - val_accuracy: 0.3537\n",
      "Epoch 2/100\n",
      "50000/50000 [==============================] - 6s 124us/step - loss: 1.7292 - accuracy: 0.3791 - val_loss: 1.6834 - val_accuracy: 0.3979\n",
      "Epoch 3/100\n",
      "50000/50000 [==============================] - 6s 126us/step - loss: 1.6322 - accuracy: 0.4178 - val_loss: 1.6141 - val_accuracy: 0.4202\n",
      "Epoch 4/100\n",
      "50000/50000 [==============================] - 6s 127us/step - loss: 1.5549 - accuracy: 0.4460 - val_loss: 1.5539 - val_accuracy: 0.4482\n",
      "Epoch 5/100\n",
      "50000/50000 [==============================] - 6s 128us/step - loss: 1.5129 - accuracy: 0.4612 - val_loss: 1.5138 - val_accuracy: 0.4609\n",
      "Epoch 6/100\n",
      "50000/50000 [==============================] - 7s 130us/step - loss: 1.4737 - accuracy: 0.4730 - val_loss: 1.5039 - val_accuracy: 0.4678\n",
      "Epoch 7/100\n",
      "50000/50000 [==============================] - 6s 129us/step - loss: 1.4382 - accuracy: 0.4863 - val_loss: 1.4590 - val_accuracy: 0.4823\n",
      "Epoch 8/100\n",
      "50000/50000 [==============================] - 7s 132us/step - loss: 1.4073 - accuracy: 0.4981 - val_loss: 1.4181 - val_accuracy: 0.4952\n",
      "Epoch 9/100\n",
      "50000/50000 [==============================] - 7s 132us/step - loss: 1.3731 - accuracy: 0.5105 - val_loss: 1.4239 - val_accuracy: 0.4906\n",
      "Epoch 10/100\n",
      "50000/50000 [==============================] - 7s 130us/step - loss: 1.3463 - accuracy: 0.5212 - val_loss: 1.4230 - val_accuracy: 0.4949\n",
      "Epoch 11/100\n",
      "50000/50000 [==============================] - 7s 135us/step - loss: 1.3287 - accuracy: 0.5273 - val_loss: 1.3978 - val_accuracy: 0.5038\n",
      "Epoch 12/100\n",
      "50000/50000 [==============================] - 7s 132us/step - loss: 1.2980 - accuracy: 0.5395 - val_loss: 1.4097 - val_accuracy: 0.4949\n",
      "Epoch 13/100\n",
      "50000/50000 [==============================] - 7s 132us/step - loss: 1.2736 - accuracy: 0.5473 - val_loss: 1.3959 - val_accuracy: 0.5092\n",
      "Epoch 14/100\n",
      "50000/50000 [==============================] - 7s 134us/step - loss: 1.2564 - accuracy: 0.5525 - val_loss: 1.3871 - val_accuracy: 0.5072\n",
      "Epoch 15/100\n",
      "50000/50000 [==============================] - 7s 130us/step - loss: 1.2286 - accuracy: 0.5627 - val_loss: 1.3695 - val_accuracy: 0.5156\n",
      "Epoch 16/100\n",
      "50000/50000 [==============================] - 7s 134us/step - loss: 1.2144 - accuracy: 0.5685 - val_loss: 1.4060 - val_accuracy: 0.5032\n",
      "Epoch 17/100\n",
      "50000/50000 [==============================] - 7s 134us/step - loss: 1.1886 - accuracy: 0.5760 - val_loss: 1.4438 - val_accuracy: 0.4979\n",
      "Epoch 18/100\n",
      "50000/50000 [==============================] - 7s 131us/step - loss: 1.1678 - accuracy: 0.5844 - val_loss: 1.3849 - val_accuracy: 0.5155\n",
      "Epoch 19/100\n",
      "50000/50000 [==============================] - 7s 133us/step - loss: 1.1442 - accuracy: 0.5926 - val_loss: 1.3822 - val_accuracy: 0.5178\n",
      "Epoch 20/100\n",
      "50000/50000 [==============================] - 7s 133us/step - loss: 1.1358 - accuracy: 0.5939 - val_loss: 1.3837 - val_accuracy: 0.5168\n",
      "Epoch 21/100\n",
      "50000/50000 [==============================] - 7s 133us/step - loss: 1.1158 - accuracy: 0.6020 - val_loss: 1.3726 - val_accuracy: 0.5205\n",
      "Epoch 22/100\n",
      "50000/50000 [==============================] - 7s 135us/step - loss: 1.0912 - accuracy: 0.6099 - val_loss: 1.4040 - val_accuracy: 0.5132\n",
      "Epoch 23/100\n",
      "50000/50000 [==============================] - 7s 136us/step - loss: 1.0680 - accuracy: 0.6191 - val_loss: 1.3958 - val_accuracy: 0.5209\n",
      "Epoch 24/100\n",
      "50000/50000 [==============================] - 7s 131us/step - loss: 1.0487 - accuracy: 0.6270 - val_loss: 1.3885 - val_accuracy: 0.5212\n",
      "Epoch 25/100\n",
      "50000/50000 [==============================] - 7s 135us/step - loss: 1.0368 - accuracy: 0.6286 - val_loss: 1.4268 - val_accuracy: 0.5136\n",
      "Epoch 26/100\n",
      "50000/50000 [==============================] - 7s 133us/step - loss: 1.0177 - accuracy: 0.6360 - val_loss: 1.3989 - val_accuracy: 0.5309\n",
      "Epoch 27/100\n",
      "50000/50000 [==============================] - 7s 140us/step - loss: 0.9966 - accuracy: 0.6439 - val_loss: 1.4127 - val_accuracy: 0.5245\n",
      "Epoch 28/100\n",
      "50000/50000 [==============================] - 7s 148us/step - loss: 0.9763 - accuracy: 0.6525 - val_loss: 1.4370 - val_accuracy: 0.5137\n",
      "Epoch 29/100\n",
      "50000/50000 [==============================] - 7s 149us/step - loss: 0.9588 - accuracy: 0.6585 - val_loss: 1.4639 - val_accuracy: 0.5215\n",
      "Epoch 30/100\n",
      "50000/50000 [==============================] - 6s 125us/step - loss: 0.9440 - accuracy: 0.6621 - val_loss: 1.4265 - val_accuracy: 0.5264\n",
      "Epoch 31/100\n",
      "50000/50000 [==============================] - 6s 126us/step - loss: 0.9315 - accuracy: 0.6682 - val_loss: 1.4215 - val_accuracy: 0.5294\n",
      "Epoch 32/100\n",
      "50000/50000 [==============================] - 6s 127us/step - loss: 0.9082 - accuracy: 0.6764 - val_loss: 1.4760 - val_accuracy: 0.5226\n",
      "Epoch 33/100\n",
      "50000/50000 [==============================] - 6s 124us/step - loss: 0.8811 - accuracy: 0.6861 - val_loss: 1.5024 - val_accuracy: 0.5244\n",
      "Epoch 34/100\n",
      "50000/50000 [==============================] - 6s 126us/step - loss: 0.8733 - accuracy: 0.6891 - val_loss: 1.4622 - val_accuracy: 0.5261\n",
      "Epoch 35/100\n",
      "50000/50000 [==============================] - 6s 124us/step - loss: 0.8570 - accuracy: 0.6936 - val_loss: 1.5595 - val_accuracy: 0.4998\n",
      "Epoch 36/100\n",
      "50000/50000 [==============================] - 6s 126us/step - loss: 0.8462 - accuracy: 0.6987 - val_loss: 1.4991 - val_accuracy: 0.5242\n",
      "Epoch 37/100\n",
      "50000/50000 [==============================] - 6s 127us/step - loss: 0.8225 - accuracy: 0.7064 - val_loss: 1.5453 - val_accuracy: 0.5183\n",
      "Epoch 38/100\n",
      "50000/50000 [==============================] - 6s 124us/step - loss: 0.8002 - accuracy: 0.7143 - val_loss: 1.5716 - val_accuracy: 0.5161\n",
      "Epoch 39/100\n",
      "50000/50000 [==============================] - 6s 128us/step - loss: 0.7997 - accuracy: 0.7150 - val_loss: 1.5657 - val_accuracy: 0.5193\n",
      "Epoch 40/100\n",
      "50000/50000 [==============================] - 6s 125us/step - loss: 0.7784 - accuracy: 0.7225 - val_loss: 1.5773 - val_accuracy: 0.5261\n",
      "Epoch 41/100\n",
      "50000/50000 [==============================] - 6s 125us/step - loss: 0.7625 - accuracy: 0.7268 - val_loss: 1.6224 - val_accuracy: 0.5199\n",
      "Epoch 42/100\n",
      "50000/50000 [==============================] - 6s 127us/step - loss: 0.7502 - accuracy: 0.7341 - val_loss: 1.6198 - val_accuracy: 0.5237\n",
      "Epoch 43/100\n",
      "50000/50000 [==============================] - 6s 124us/step - loss: 0.7397 - accuracy: 0.7356 - val_loss: 1.6466 - val_accuracy: 0.5192\n",
      "Epoch 44/100\n",
      "50000/50000 [==============================] - 6s 127us/step - loss: 0.7252 - accuracy: 0.7432 - val_loss: 1.6504 - val_accuracy: 0.5229\n",
      "Epoch 45/100\n",
      "50000/50000 [==============================] - 6s 126us/step - loss: 0.7044 - accuracy: 0.7492 - val_loss: 1.7178 - val_accuracy: 0.5028\n",
      "Epoch 46/100\n",
      "50000/50000 [==============================] - 6s 125us/step - loss: 0.6958 - accuracy: 0.7502 - val_loss: 1.7080 - val_accuracy: 0.5120\n",
      "Epoch 47/100\n",
      "50000/50000 [==============================] - 6s 127us/step - loss: 0.6737 - accuracy: 0.7603 - val_loss: 1.8264 - val_accuracy: 0.5026\n",
      "Epoch 48/100\n",
      "50000/50000 [==============================] - 6s 127us/step - loss: 0.6596 - accuracy: 0.7646 - val_loss: 1.7962 - val_accuracy: 0.5142\n",
      "Epoch 49/100\n",
      "50000/50000 [==============================] - 6s 127us/step - loss: 0.6485 - accuracy: 0.7695 - val_loss: 1.8193 - val_accuracy: 0.5087\n",
      "Epoch 50/100\n",
      "50000/50000 [==============================] - 6s 128us/step - loss: 0.6431 - accuracy: 0.7710 - val_loss: 1.7915 - val_accuracy: 0.5145\n",
      "Epoch 51/100\n",
      "50000/50000 [==============================] - 6s 127us/step - loss: 0.6296 - accuracy: 0.7758 - val_loss: 1.8477 - val_accuracy: 0.5074\n",
      "Epoch 52/100\n",
      "50000/50000 [==============================] - 6s 129us/step - loss: 0.6189 - accuracy: 0.7784 - val_loss: 1.9233 - val_accuracy: 0.5028\n",
      "Epoch 53/100\n",
      "50000/50000 [==============================] - 6s 125us/step - loss: 0.6043 - accuracy: 0.7836 - val_loss: 1.8765 - val_accuracy: 0.5131\n",
      "Epoch 54/100\n",
      "50000/50000 [==============================] - 6s 128us/step - loss: 0.5943 - accuracy: 0.7882 - val_loss: 1.9626 - val_accuracy: 0.5094\n",
      "Epoch 55/100\n"
     ]
    },
    {
     "name": "stdout",
     "output_type": "stream",
     "text": [
      "50000/50000 [==============================] - 6s 125us/step - loss: 0.5656 - accuracy: 0.7978 - val_loss: 1.9409 - val_accuracy: 0.5100\n",
      "Epoch 56/100\n",
      "50000/50000 [==============================] - 6s 123us/step - loss: 0.5648 - accuracy: 0.7990 - val_loss: 2.0269 - val_accuracy: 0.5053\n",
      "Epoch 57/100\n",
      "50000/50000 [==============================] - 6s 124us/step - loss: 0.5666 - accuracy: 0.7976 - val_loss: 2.0397 - val_accuracy: 0.5097\n",
      "Epoch 58/100\n",
      "50000/50000 [==============================] - 6s 122us/step - loss: 0.5443 - accuracy: 0.8056 - val_loss: 2.0758 - val_accuracy: 0.5054\n",
      "Epoch 59/100\n",
      "50000/50000 [==============================] - 6s 125us/step - loss: 0.5339 - accuracy: 0.8094 - val_loss: 2.0947 - val_accuracy: 0.5033\n",
      "Epoch 60/100\n",
      "50000/50000 [==============================] - 6s 125us/step - loss: 0.5332 - accuracy: 0.8096 - val_loss: 2.0875 - val_accuracy: 0.5046\n",
      "Epoch 61/100\n",
      "50000/50000 [==============================] - 6s 123us/step - loss: 0.5079 - accuracy: 0.8204 - val_loss: 2.1183 - val_accuracy: 0.5178\n",
      "Epoch 62/100\n",
      "50000/50000 [==============================] - 6s 125us/step - loss: 0.4965 - accuracy: 0.8230 - val_loss: 2.1980 - val_accuracy: 0.5065\n",
      "Epoch 63/100\n",
      "50000/50000 [==============================] - 6s 123us/step - loss: 0.4992 - accuracy: 0.8210 - val_loss: 2.1765 - val_accuracy: 0.5033\n",
      "Epoch 64/100\n",
      "50000/50000 [==============================] - 6s 127us/step - loss: 0.4980 - accuracy: 0.8233 - val_loss: 2.1946 - val_accuracy: 0.5080\n",
      "Epoch 65/100\n",
      "50000/50000 [==============================] - 6s 126us/step - loss: 0.4781 - accuracy: 0.8303 - val_loss: 2.2382 - val_accuracy: 0.4975\n",
      "Epoch 66/100\n",
      "50000/50000 [==============================] - 6s 124us/step - loss: 0.4770 - accuracy: 0.8296 - val_loss: 2.3151 - val_accuracy: 0.5028\n",
      "Epoch 67/100\n",
      "50000/50000 [==============================] - 6s 128us/step - loss: 0.4651 - accuracy: 0.8328 - val_loss: 2.3202 - val_accuracy: 0.5030\n",
      "Epoch 68/100\n",
      "50000/50000 [==============================] - 6s 124us/step - loss: 0.4598 - accuracy: 0.8344 - val_loss: 2.3315 - val_accuracy: 0.5074\n",
      "Epoch 69/100\n",
      "50000/50000 [==============================] - 6s 124us/step - loss: 0.4622 - accuracy: 0.8338 - val_loss: 2.4509 - val_accuracy: 0.4966\n",
      "Epoch 70/100\n",
      "50000/50000 [==============================] - 6s 125us/step - loss: 0.4359 - accuracy: 0.8445 - val_loss: 2.4062 - val_accuracy: 0.4962\n",
      "Epoch 71/100\n",
      "50000/50000 [==============================] - 6s 124us/step - loss: 0.4527 - accuracy: 0.8378 - val_loss: 2.4828 - val_accuracy: 0.5052\n",
      "Epoch 72/100\n",
      "50000/50000 [==============================] - 7s 140us/step - loss: 0.4277 - accuracy: 0.8466 - val_loss: 2.4846 - val_accuracy: 0.5082\n",
      "Epoch 73/100\n",
      "50000/50000 [==============================] - 7s 140us/step - loss: 0.4238 - accuracy: 0.8486 - val_loss: 2.5783 - val_accuracy: 0.4995\n",
      "Epoch 74/100\n",
      "50000/50000 [==============================] - 7s 149us/step - loss: 0.4208 - accuracy: 0.8505 - val_loss: 2.5575 - val_accuracy: 0.5028\n",
      "Epoch 75/100\n",
      "50000/50000 [==============================] - 7s 141us/step - loss: 0.4208 - accuracy: 0.8483 - val_loss: 2.6417 - val_accuracy: 0.4904\n",
      "Epoch 76/100\n",
      "50000/50000 [==============================] - 7s 135us/step - loss: 0.4113 - accuracy: 0.8518 - val_loss: 2.5152 - val_accuracy: 0.5041\n",
      "Epoch 77/100\n",
      "50000/50000 [==============================] - 7s 135us/step - loss: 0.3845 - accuracy: 0.8620 - val_loss: 2.6015 - val_accuracy: 0.5030\n",
      "Epoch 78/100\n",
      "50000/50000 [==============================] - 7s 133us/step - loss: 0.3708 - accuracy: 0.8668 - val_loss: 2.7623 - val_accuracy: 0.4977\n",
      "Epoch 79/100\n",
      "50000/50000 [==============================] - 7s 131us/step - loss: 0.3870 - accuracy: 0.8608 - val_loss: 2.7018 - val_accuracy: 0.5035\n",
      "Epoch 80/100\n",
      "50000/50000 [==============================] - 6s 120us/step - loss: 0.3744 - accuracy: 0.8652 - val_loss: 2.7732 - val_accuracy: 0.4951\n",
      "Epoch 81/100\n",
      "50000/50000 [==============================] - 6s 128us/step - loss: 0.3690 - accuracy: 0.8679 - val_loss: 2.6779 - val_accuracy: 0.5002\n",
      "Epoch 82/100\n",
      "50000/50000 [==============================] - 6s 127us/step - loss: 0.3677 - accuracy: 0.8682 - val_loss: 2.7982 - val_accuracy: 0.4978\n",
      "Epoch 83/100\n",
      "50000/50000 [==============================] - 6s 129us/step - loss: 0.3588 - accuracy: 0.8698 - val_loss: 2.8845 - val_accuracy: 0.4889\n",
      "Epoch 84/100\n",
      "50000/50000 [==============================] - 7s 141us/step - loss: 0.3568 - accuracy: 0.8709 - val_loss: 2.9444 - val_accuracy: 0.4941\n",
      "Epoch 85/100\n",
      "50000/50000 [==============================] - 7s 137us/step - loss: 0.3547 - accuracy: 0.8723 - val_loss: 2.9371 - val_accuracy: 0.4943\n",
      "Epoch 86/100\n",
      "50000/50000 [==============================] - 6s 122us/step - loss: 0.3349 - accuracy: 0.8772 - val_loss: 2.9089 - val_accuracy: 0.4974\n",
      "Epoch 87/100\n",
      "50000/50000 [==============================] - 6s 121us/step - loss: 0.3449 - accuracy: 0.8751 - val_loss: 3.0075 - val_accuracy: 0.4948\n",
      "Epoch 88/100\n",
      "50000/50000 [==============================] - 6s 117us/step - loss: 0.3526 - accuracy: 0.8727 - val_loss: 2.9476 - val_accuracy: 0.5018\n",
      "Epoch 89/100\n",
      "50000/50000 [==============================] - 6s 121us/step - loss: 0.3242 - accuracy: 0.8824 - val_loss: 2.9395 - val_accuracy: 0.4912\n",
      "Epoch 90/100\n",
      "50000/50000 [==============================] - 6s 120us/step - loss: 0.3163 - accuracy: 0.8867 - val_loss: 3.0981 - val_accuracy: 0.4889\n",
      "Epoch 91/100\n",
      "50000/50000 [==============================] - 6s 122us/step - loss: 0.3249 - accuracy: 0.8825 - val_loss: 3.0982 - val_accuracy: 0.4941\n",
      "Epoch 92/100\n",
      "50000/50000 [==============================] - 6s 119us/step - loss: 0.3273 - accuracy: 0.8819 - val_loss: 3.0512 - val_accuracy: 0.5020\n",
      "Epoch 93/100\n",
      "50000/50000 [==============================] - 6s 118us/step - loss: 0.3130 - accuracy: 0.8875 - val_loss: 3.1443 - val_accuracy: 0.4999\n",
      "Epoch 94/100\n",
      "50000/50000 [==============================] - 6s 121us/step - loss: 0.2828 - accuracy: 0.8984 - val_loss: 3.2780 - val_accuracy: 0.4995\n",
      "Epoch 95/100\n",
      "50000/50000 [==============================] - 6s 118us/step - loss: 0.3239 - accuracy: 0.8833 - val_loss: 3.1907 - val_accuracy: 0.4920\n",
      "Epoch 96/100\n",
      "50000/50000 [==============================] - 6s 120us/step - loss: 0.3083 - accuracy: 0.8887 - val_loss: 3.2158 - val_accuracy: 0.5023\n",
      "Epoch 97/100\n",
      "50000/50000 [==============================] - 6s 120us/step - loss: 0.2878 - accuracy: 0.8967 - val_loss: 3.2570 - val_accuracy: 0.4969\n",
      "Epoch 98/100\n",
      "50000/50000 [==============================] - 6s 121us/step - loss: 0.3136 - accuracy: 0.8862 - val_loss: 3.2002 - val_accuracy: 0.4996\n",
      "Epoch 99/100\n",
      "50000/50000 [==============================] - 6s 119us/step - loss: 0.2752 - accuracy: 0.9003 - val_loss: 3.4096 - val_accuracy: 0.4911\n",
      "Epoch 100/100\n",
      "50000/50000 [==============================] - 6s 119us/step - loss: 0.3129 - accuracy: 0.8874 - val_loss: 3.3227 - val_accuracy: 0.4961\n"
     ]
    },
    {
     "data": {
      "text/plain": [
       "<keras.callbacks.callbacks.History at 0x64296d240>"
      ]
     },
     "execution_count": 9,
     "metadata": {},
     "output_type": "execute_result"
    }
   ],
   "source": [
    "model.fit(x_train, y_train, \n",
    "          epochs=EPOCHS, \n",
    "          batch_size=BATCH_SIZE, \n",
    "          validation_data=(x_test, y_test), \n",
    "          shuffle=True)"
   ]
  },
  {
   "cell_type": "code",
   "execution_count": 11,
   "metadata": {},
   "outputs": [
    {
     "data": {
      "image/png": "[encoded data removed]",
      "text/plain": [
       "<Figure size 432x288 with 1 Axes>"
      ]
     },
     "metadata": {
      "needs_background": "light"
     },
     "output_type": "display_data"
    },
    {
     "data": {
      "image/png": "[encoded data removed]",
      "text/plain": [
       "<Figure size 432x288 with 1 Axes>"
      ]
     },
     "metadata": {
      "needs_background": "light"
     },
     "output_type": "display_data"
    }
   ],
   "source": [
    "# 訓練模型並檢視驗證集的結果\n",
    "import matplotlib.pyplot as plt\n",
    "\n",
    "train_loss = model.history.history[\"loss\"]\n",
    "valid_loss = model.history.history[\"val_loss\"]\n",
    "\n",
    "train_acc = model.history.history[\"accuracy\"]\n",
    "valid_acc = model.history.history[\"val_accuracy\"]\n",
    "\n",
    "plt.plot(range(len(train_loss)), train_loss, label=\"train loss\")\n",
    "plt.plot(range(len(valid_loss)), valid_loss, label=\"valid loss\")\n",
    "plt.legend()\n",
    "plt.title(\"Loss\")\n",
    "plt.show()\n",
    "\n",
    "plt.plot(range(len(train_acc)), train_acc, label=\"train accuracy\")\n",
    "plt.plot(range(len(valid_acc)), valid_acc, label=\"valid accuracy\")\n",
    "plt.legend()\n",
    "plt.title(\"Accuracy\")\n",
    "plt.show()"
   ]
  },
  {
   "cell_type": "markdown",
   "metadata": {},
   "source": [
    " mlp10 層"
   ]
  },
  {
   "cell_type": "code",
   "execution_count": 12,
   "metadata": {},
   "outputs": [],
   "source": [
    "\"\"\"Code Here\n",
    "建立你的神經網路\n",
    "\"\"\"\n",
    "\n",
    "def build_mlp(input_shape=10, output_units=10, num_neurons=[512, 256, 128]):\n",
    "    input_layer = keras.layers.Input(input_shape)\n",
    "    \n",
    "    for i, n_units in enumerate(num_neurons):\n",
    "        if i == 0:\n",
    "            x = keras.layers.Dense(units=n_units, activation=\"relu\", name=\"hidden_layer\"+str(i+1))(input_layer)\n",
    "        else:\n",
    "            x = keras.layers.Dense(units=n_units, activation=\"relu\", name=\"hidden_layer\"+str(i+1))(x)\n",
    "    \n",
    "    out = keras.layers.Dense(units=output_units, activation=\"softmax\", name=\"output\")(x)\n",
    "    \n",
    "    model = keras.models.Model(inputs=[input_layer], outputs=[out])\n",
    "    return model"
   ]
  },
  {
   "cell_type": "code",
   "execution_count": 13,
   "metadata": {},
   "outputs": [
    {
     "name": "stdout",
     "output_type": "stream",
     "text": [
      "Model: \"model_2\"\n",
      "_________________________________________________________________\n",
      "Layer (type)                 Output Shape              Param #   \n",
      "=================================================================\n",
      "input_2 (InputLayer)         (None, 3072)              0         \n",
      "_________________________________________________________________\n",
      "hidden_layer1 (Dense)        (None, 512)               1573376   \n",
      "_________________________________________________________________\n",
      "hidden_layer2 (Dense)        (None, 256)               131328    \n",
      "_________________________________________________________________\n",
      "hidden_layer3 (Dense)        (None, 128)               32896     \n",
      "_________________________________________________________________\n",
      "output (Dense)               (None, 10)                1290      \n",
      "=================================================================\n",
      "Total params: 1,738,890\n",
      "Trainable params: 1,738,890\n",
      "Non-trainable params: 0\n",
      "_________________________________________________________________\n"
     ]
    }
   ],
   "source": [
    "model = build_mlp(input_shape=x_train.shape[1:])\n",
    "model.summary()"
   ]
  },
  {
   "cell_type": "code",
   "execution_count": 14,
   "metadata": {},
   "outputs": [],
   "source": [
    "## 超參數設定\n",
    "LEARNING_RATE = 0.001\n",
    "EPOCHS = 100\n",
    "BATCH_SIZE = 256"
   ]
  },
  {
   "cell_type": "code",
   "execution_count": 15,
   "metadata": {},
   "outputs": [],
   "source": [
    "optimizer = keras.optimizers.Adam(lr=LEARNING_RATE)\n",
    "model.compile(loss=\"categorical_crossentropy\", metrics=[\"accuracy\"], optimizer=optimizer)"
   ]
  },
  {
   "cell_type": "code",
   "execution_count": 16,
   "metadata": {},
   "outputs": [
    {
     "name": "stdout",
     "output_type": "stream",
     "text": [
      "Train on 50000 samples, validate on 10000 samples\n",
      "Epoch 1/100\n",
      "50000/50000 [==============================] - 8s 166us/step - loss: 1.9351 - accuracy: 0.3016 - val_loss: 1.7881 - val_accuracy: 0.3633\n",
      "Epoch 2/100\n",
      "50000/50000 [==============================] - 7s 140us/step - loss: 1.7164 - accuracy: 0.3876 - val_loss: 1.6782 - val_accuracy: 0.4000\n",
      "Epoch 3/100\n",
      "50000/50000 [==============================] - 6s 126us/step - loss: 1.6245 - accuracy: 0.4201 - val_loss: 1.5867 - val_accuracy: 0.4317\n",
      "Epoch 4/100\n",
      "50000/50000 [==============================] - 8s 157us/step - loss: 1.5549 - accuracy: 0.4459 - val_loss: 1.7614 - val_accuracy: 0.3696\n",
      "Epoch 5/100\n",
      "50000/50000 [==============================] - 10s 202us/step - loss: 1.5145 - accuracy: 0.4610 - val_loss: 1.5080 - val_accuracy: 0.4592\n",
      "Epoch 6/100\n",
      "50000/50000 [==============================] - 8s 162us/step - loss: 1.4612 - accuracy: 0.4805 - val_loss: 1.4975 - val_accuracy: 0.4664\n",
      "Epoch 7/100\n",
      "50000/50000 [==============================] - 8s 164us/step - loss: 1.4279 - accuracy: 0.4910 - val_loss: 1.4620 - val_accuracy: 0.4816\n",
      "Epoch 8/100\n",
      "50000/50000 [==============================] - 9s 175us/step - loss: 1.4004 - accuracy: 0.4991 - val_loss: 1.4499 - val_accuracy: 0.4934\n",
      "Epoch 9/100\n",
      "50000/50000 [==============================] - 8s 158us/step - loss: 1.3685 - accuracy: 0.5121 - val_loss: 1.4106 - val_accuracy: 0.4963\n",
      "Epoch 10/100\n",
      "50000/50000 [==============================] - 8s 163us/step - loss: 1.3493 - accuracy: 0.5200 - val_loss: 1.4481 - val_accuracy: 0.4899\n",
      "Epoch 11/100\n",
      "50000/50000 [==============================] - 9s 175us/step - loss: 1.3203 - accuracy: 0.5294 - val_loss: 1.3671 - val_accuracy: 0.5104\n",
      "Epoch 12/100\n",
      "50000/50000 [==============================] - 9s 185us/step - loss: 1.2981 - accuracy: 0.5394 - val_loss: 1.3962 - val_accuracy: 0.5037\n",
      "Epoch 13/100\n",
      "50000/50000 [==============================] - 8s 155us/step - loss: 1.2702 - accuracy: 0.5500 - val_loss: 1.4094 - val_accuracy: 0.4970\n",
      "Epoch 14/100\n",
      "50000/50000 [==============================] - 8s 162us/step - loss: 1.2359 - accuracy: 0.5616 - val_loss: 1.3514 - val_accuracy: 0.5234\n",
      "Epoch 15/100\n",
      "50000/50000 [==============================] - 8s 157us/step - loss: 1.2247 - accuracy: 0.5614 - val_loss: 1.4049 - val_accuracy: 0.5118\n",
      "Epoch 16/100\n",
      "50000/50000 [==============================] - 8s 157us/step - loss: 1.1983 - accuracy: 0.5732 - val_loss: 1.4014 - val_accuracy: 0.5129\n",
      "Epoch 17/100\n",
      "50000/50000 [==============================] - 8s 162us/step - loss: 1.1876 - accuracy: 0.5769 - val_loss: 1.3877 - val_accuracy: 0.5115\n",
      "Epoch 18/100\n",
      "50000/50000 [==============================] - 8s 155us/step - loss: 1.1647 - accuracy: 0.5824 - val_loss: 1.3813 - val_accuracy: 0.5159\n",
      "Epoch 19/100\n",
      "50000/50000 [==============================] - 8s 156us/step - loss: 1.1390 - accuracy: 0.5953 - val_loss: 1.3555 - val_accuracy: 0.5283\n",
      "Epoch 20/100\n",
      "50000/50000 [==============================] - 6s 128us/step - loss: 1.1259 - accuracy: 0.5983 - val_loss: 1.3480 - val_accuracy: 0.5268\n",
      "Epoch 21/100\n",
      "50000/50000 [==============================] - 6s 119us/step - loss: 1.1036 - accuracy: 0.6066 - val_loss: 1.3937 - val_accuracy: 0.5125\n",
      "Epoch 22/100\n",
      "50000/50000 [==============================] - 6s 120us/step - loss: 1.0778 - accuracy: 0.6150 - val_loss: 1.3665 - val_accuracy: 0.5269\n",
      "Epoch 23/100\n",
      "50000/50000 [==============================] - 6s 120us/step - loss: 1.0586 - accuracy: 0.6247 - val_loss: 1.3861 - val_accuracy: 0.5269\n",
      "Epoch 24/100\n",
      "50000/50000 [==============================] - 6s 118us/step - loss: 1.0413 - accuracy: 0.6291 - val_loss: 1.4362 - val_accuracy: 0.5113\n",
      "Epoch 25/100\n",
      "50000/50000 [==============================] - 6s 120us/step - loss: 1.0208 - accuracy: 0.6370 - val_loss: 1.4382 - val_accuracy: 0.5129\n",
      "Epoch 26/100\n",
      "50000/50000 [==============================] - 6s 118us/step - loss: 1.0063 - accuracy: 0.6409 - val_loss: 1.4185 - val_accuracy: 0.5249\n",
      "Epoch 27/100\n",
      "50000/50000 [==============================] - 6s 124us/step - loss: 0.9849 - accuracy: 0.6489 - val_loss: 1.4080 - val_accuracy: 0.5206\n",
      "Epoch 28/100\n",
      "50000/50000 [==============================] - 6s 120us/step - loss: 0.9692 - accuracy: 0.6537 - val_loss: 1.3994 - val_accuracy: 0.5286\n",
      "Epoch 29/100\n",
      "50000/50000 [==============================] - 6s 119us/step - loss: 0.9600 - accuracy: 0.6578 - val_loss: 1.4628 - val_accuracy: 0.5130\n",
      "Epoch 30/100\n",
      "50000/50000 [==============================] - 6s 120us/step - loss: 0.9438 - accuracy: 0.6630 - val_loss: 1.4525 - val_accuracy: 0.5180\n",
      "Epoch 31/100\n",
      "50000/50000 [==============================] - 6s 119us/step - loss: 0.9278 - accuracy: 0.6675 - val_loss: 1.4590 - val_accuracy: 0.5237\n",
      "Epoch 32/100\n",
      "50000/50000 [==============================] - 6s 121us/step - loss: 0.9040 - accuracy: 0.6770 - val_loss: 1.4617 - val_accuracy: 0.5236\n",
      "Epoch 33/100\n",
      "50000/50000 [==============================] - 6s 118us/step - loss: 0.8890 - accuracy: 0.6827 - val_loss: 1.4777 - val_accuracy: 0.5288\n",
      "Epoch 34/100\n",
      "50000/50000 [==============================] - 6s 121us/step - loss: 0.8834 - accuracy: 0.6851 - val_loss: 1.5226 - val_accuracy: 0.5181\n",
      "Epoch 35/100\n",
      "50000/50000 [==============================] - 7s 136us/step - loss: 0.8589 - accuracy: 0.6961 - val_loss: 1.5149 - val_accuracy: 0.5189\n",
      "Epoch 36/100\n",
      "50000/50000 [==============================] - 7s 149us/step - loss: 0.8392 - accuracy: 0.6992 - val_loss: 1.5335 - val_accuracy: 0.5155\n",
      "Epoch 37/100\n",
      "50000/50000 [==============================] - 8s 158us/step - loss: 0.8465 - accuracy: 0.6957 - val_loss: 1.5050 - val_accuracy: 0.5314\n",
      "Epoch 38/100\n",
      "50000/50000 [==============================] - 9s 175us/step - loss: 0.8114 - accuracy: 0.7097 - val_loss: 1.5617 - val_accuracy: 0.5154\n",
      "Epoch 39/100\n",
      "50000/50000 [==============================] - 9s 185us/step - loss: 0.7891 - accuracy: 0.7187 - val_loss: 1.5898 - val_accuracy: 0.5257\n",
      "Epoch 40/100\n",
      "50000/50000 [==============================] - 9s 190us/step - loss: 0.7769 - accuracy: 0.7230 - val_loss: 1.5989 - val_accuracy: 0.5195\n",
      "Epoch 41/100\n",
      "50000/50000 [==============================] - 8s 169us/step - loss: 0.7723 - accuracy: 0.7233 - val_loss: 1.5831 - val_accuracy: 0.5247\n",
      "Epoch 42/100\n",
      "50000/50000 [==============================] - 8s 164us/step - loss: 0.7558 - accuracy: 0.7331 - val_loss: 1.6292 - val_accuracy: 0.5119\n",
      "Epoch 43/100\n",
      "50000/50000 [==============================] - 8s 168us/step - loss: 0.7443 - accuracy: 0.7356 - val_loss: 1.6518 - val_accuracy: 0.5150\n",
      "Epoch 44/100\n",
      "50000/50000 [==============================] - 8s 160us/step - loss: 0.7307 - accuracy: 0.7388 - val_loss: 1.6184 - val_accuracy: 0.5244\n",
      "Epoch 45/100\n",
      "50000/50000 [==============================] - 8s 159us/step - loss: 0.7116 - accuracy: 0.7485 - val_loss: 1.6822 - val_accuracy: 0.5208\n",
      "Epoch 46/100\n",
      "50000/50000 [==============================] - 9s 171us/step - loss: 0.7016 - accuracy: 0.7507 - val_loss: 1.6604 - val_accuracy: 0.5235\n",
      "Epoch 47/100\n",
      "50000/50000 [==============================] - 8s 162us/step - loss: 0.6882 - accuracy: 0.7541 - val_loss: 1.6808 - val_accuracy: 0.5295\n",
      "Epoch 48/100\n",
      "50000/50000 [==============================] - 8s 167us/step - loss: 0.6683 - accuracy: 0.7615 - val_loss: 1.7332 - val_accuracy: 0.5239\n",
      "Epoch 49/100\n",
      "50000/50000 [==============================] - 8s 170us/step - loss: 0.6745 - accuracy: 0.7595 - val_loss: 1.7357 - val_accuracy: 0.5245\n",
      "Epoch 50/100\n",
      "50000/50000 [==============================] - 9s 171us/step - loss: 0.6502 - accuracy: 0.7669 - val_loss: 1.7969 - val_accuracy: 0.5095\n",
      "Epoch 51/100\n",
      "50000/50000 [==============================] - 9s 182us/step - loss: 0.6275 - accuracy: 0.7780 - val_loss: 1.8199 - val_accuracy: 0.5152\n",
      "Epoch 52/100\n",
      "50000/50000 [==============================] - 9s 188us/step - loss: 0.6193 - accuracy: 0.7791 - val_loss: 1.7973 - val_accuracy: 0.5244\n",
      "Epoch 53/100\n",
      "50000/50000 [==============================] - 8s 170us/step - loss: 0.6184 - accuracy: 0.7783 - val_loss: 1.8609 - val_accuracy: 0.5179\n",
      "Epoch 54/100\n",
      "50000/50000 [==============================] - 8s 154us/step - loss: 0.6179 - accuracy: 0.7793 - val_loss: 1.8709 - val_accuracy: 0.5162\n",
      "Epoch 55/100\n"
     ]
    },
    {
     "name": "stdout",
     "output_type": "stream",
     "text": [
      "50000/50000 [==============================] - 8s 155us/step - loss: 0.6094 - accuracy: 0.7807 - val_loss: 1.8682 - val_accuracy: 0.5130\n",
      "Epoch 56/100\n",
      "50000/50000 [==============================] - 8s 150us/step - loss: 0.5900 - accuracy: 0.7887 - val_loss: 1.8622 - val_accuracy: 0.5222\n",
      "Epoch 57/100\n",
      "50000/50000 [==============================] - 8s 152us/step - loss: 0.5607 - accuracy: 0.8005 - val_loss: 1.9977 - val_accuracy: 0.5077\n",
      "Epoch 58/100\n",
      "50000/50000 [==============================] - 8s 156us/step - loss: 0.5663 - accuracy: 0.7971 - val_loss: 2.0619 - val_accuracy: 0.5144\n",
      "Epoch 59/100\n",
      "50000/50000 [==============================] - 8s 154us/step - loss: 0.5561 - accuracy: 0.7990 - val_loss: 2.0366 - val_accuracy: 0.5148\n",
      "Epoch 60/100\n",
      "50000/50000 [==============================] - 8s 154us/step - loss: 0.5542 - accuracy: 0.8021 - val_loss: 2.0044 - val_accuracy: 0.5186\n",
      "Epoch 61/100\n",
      "50000/50000 [==============================] - 8s 170us/step - loss: 0.5438 - accuracy: 0.8063 - val_loss: 2.0086 - val_accuracy: 0.5203\n",
      "Epoch 62/100\n",
      "50000/50000 [==============================] - 8s 161us/step - loss: 0.5405 - accuracy: 0.8061 - val_loss: 2.0332 - val_accuracy: 0.5132\n",
      "Epoch 63/100\n",
      "50000/50000 [==============================] - 8s 151us/step - loss: 0.5168 - accuracy: 0.8171 - val_loss: 2.0945 - val_accuracy: 0.5166\n",
      "Epoch 64/100\n",
      "50000/50000 [==============================] - 8s 167us/step - loss: 0.4962 - accuracy: 0.8224 - val_loss: 2.1703 - val_accuracy: 0.5151\n",
      "Epoch 65/100\n",
      "50000/50000 [==============================] - 9s 177us/step - loss: 0.4984 - accuracy: 0.8210 - val_loss: 2.1608 - val_accuracy: 0.5105\n",
      "Epoch 66/100\n",
      "50000/50000 [==============================] - 8s 154us/step - loss: 0.4980 - accuracy: 0.8216 - val_loss: 2.1895 - val_accuracy: 0.5118\n",
      "Epoch 67/100\n",
      "50000/50000 [==============================] - 8s 156us/step - loss: 0.4824 - accuracy: 0.8268 - val_loss: 2.2266 - val_accuracy: 0.5093\n",
      "Epoch 68/100\n",
      "50000/50000 [==============================] - 8s 156us/step - loss: 0.4817 - accuracy: 0.8258 - val_loss: 2.2333 - val_accuracy: 0.5208\n",
      "Epoch 69/100\n",
      "50000/50000 [==============================] - 8s 156us/step - loss: 0.4612 - accuracy: 0.8351 - val_loss: 2.2838 - val_accuracy: 0.5178\n",
      "Epoch 70/100\n",
      "50000/50000 [==============================] - 8s 158us/step - loss: 0.4737 - accuracy: 0.8292 - val_loss: 2.2993 - val_accuracy: 0.5118\n",
      "Epoch 71/100\n",
      "50000/50000 [==============================] - 8s 155us/step - loss: 0.4516 - accuracy: 0.8369 - val_loss: 2.3304 - val_accuracy: 0.5175\n",
      "Epoch 72/100\n",
      "50000/50000 [==============================] - 8s 158us/step - loss: 0.4347 - accuracy: 0.8447 - val_loss: 2.3300 - val_accuracy: 0.5159\n",
      "Epoch 73/100\n",
      "50000/50000 [==============================] - 8s 157us/step - loss: 0.4394 - accuracy: 0.8411 - val_loss: 2.3079 - val_accuracy: 0.5221\n",
      "Epoch 74/100\n",
      "50000/50000 [==============================] - 8s 159us/step - loss: 0.4267 - accuracy: 0.8473 - val_loss: 2.4653 - val_accuracy: 0.5125\n",
      "Epoch 75/100\n",
      "50000/50000 [==============================] - 8s 156us/step - loss: 0.4250 - accuracy: 0.8469 - val_loss: 2.4560 - val_accuracy: 0.5085\n",
      "Epoch 76/100\n",
      "50000/50000 [==============================] - 8s 155us/step - loss: 0.4247 - accuracy: 0.8470 - val_loss: 2.4503 - val_accuracy: 0.5198\n",
      "Epoch 77/100\n",
      "50000/50000 [==============================] - 8s 156us/step - loss: 0.4066 - accuracy: 0.8551 - val_loss: 2.5670 - val_accuracy: 0.5102\n",
      "Epoch 78/100\n",
      "50000/50000 [==============================] - 8s 158us/step - loss: 0.4128 - accuracy: 0.8512 - val_loss: 2.4819 - val_accuracy: 0.5181\n",
      "Epoch 79/100\n",
      "50000/50000 [==============================] - 8s 157us/step - loss: 0.4051 - accuracy: 0.8548 - val_loss: 2.5760 - val_accuracy: 0.5103\n",
      "Epoch 80/100\n",
      "50000/50000 [==============================] - 8s 158us/step - loss: 0.3933 - accuracy: 0.8597 - val_loss: 2.5752 - val_accuracy: 0.5062\n",
      "Epoch 81/100\n",
      "50000/50000 [==============================] - 8s 156us/step - loss: 0.3836 - accuracy: 0.8611 - val_loss: 2.5681 - val_accuracy: 0.5168\n",
      "Epoch 82/100\n",
      "50000/50000 [==============================] - 8s 160us/step - loss: 0.3657 - accuracy: 0.8688 - val_loss: 2.6179 - val_accuracy: 0.5080\n",
      "Epoch 83/100\n",
      "50000/50000 [==============================] - 8s 161us/step - loss: 0.3854 - accuracy: 0.8609 - val_loss: 2.5857 - val_accuracy: 0.5097\n",
      "Epoch 84/100\n",
      "50000/50000 [==============================] - 8s 163us/step - loss: 0.3862 - accuracy: 0.8599 - val_loss: 2.7266 - val_accuracy: 0.5077\n",
      "Epoch 85/100\n",
      "50000/50000 [==============================] - 8s 166us/step - loss: 0.3642 - accuracy: 0.8690 - val_loss: 2.6838 - val_accuracy: 0.5128\n",
      "Epoch 86/100\n",
      "50000/50000 [==============================] - 8s 164us/step - loss: 0.3656 - accuracy: 0.8677 - val_loss: 2.7515 - val_accuracy: 0.5057\n",
      "Epoch 87/100\n",
      "50000/50000 [==============================] - 8s 165us/step - loss: 0.3713 - accuracy: 0.8679 - val_loss: 2.7318 - val_accuracy: 0.5077\n",
      "Epoch 88/100\n",
      "50000/50000 [==============================] - 8s 159us/step - loss: 0.3435 - accuracy: 0.8772 - val_loss: 2.8937 - val_accuracy: 0.5050\n",
      "Epoch 89/100\n",
      "50000/50000 [==============================] - 8s 161us/step - loss: 0.3434 - accuracy: 0.8774 - val_loss: 2.7506 - val_accuracy: 0.5146\n",
      "Epoch 90/100\n",
      "50000/50000 [==============================] - 8s 161us/step - loss: 0.3269 - accuracy: 0.8824 - val_loss: 2.9262 - val_accuracy: 0.5055\n",
      "Epoch 91/100\n",
      "50000/50000 [==============================] - 8s 166us/step - loss: 0.3438 - accuracy: 0.8752 - val_loss: 2.9173 - val_accuracy: 0.5044\n",
      "Epoch 92/100\n",
      "50000/50000 [==============================] - 8s 156us/step - loss: 0.3250 - accuracy: 0.8825 - val_loss: 2.9723 - val_accuracy: 0.5005\n",
      "Epoch 93/100\n",
      "50000/50000 [==============================] - 8s 161us/step - loss: 0.3273 - accuracy: 0.8830 - val_loss: 2.9821 - val_accuracy: 0.5013\n",
      "Epoch 94/100\n",
      "50000/50000 [==============================] - 8s 164us/step - loss: 0.3514 - accuracy: 0.8742 - val_loss: 3.0184 - val_accuracy: 0.4977\n",
      "Epoch 95/100\n",
      "50000/50000 [==============================] - 9s 177us/step - loss: 0.3276 - accuracy: 0.8819 - val_loss: 3.0883 - val_accuracy: 0.5036\n",
      "Epoch 96/100\n",
      "50000/50000 [==============================] - 9s 172us/step - loss: 0.3054 - accuracy: 0.8898 - val_loss: 3.0864 - val_accuracy: 0.5013\n",
      "Epoch 97/100\n",
      "50000/50000 [==============================] - 8s 165us/step - loss: 0.3045 - accuracy: 0.8912 - val_loss: 3.0251 - val_accuracy: 0.5015\n",
      "Epoch 98/100\n",
      "50000/50000 [==============================] - 10s 197us/step - loss: 0.2864 - accuracy: 0.8977 - val_loss: 3.0801 - val_accuracy: 0.5079\n",
      "Epoch 99/100\n",
      "50000/50000 [==============================] - 8s 157us/step - loss: 0.3241 - accuracy: 0.8831 - val_loss: 3.0807 - val_accuracy: 0.5062\n",
      "Epoch 100/100\n",
      "50000/50000 [==============================] - 8s 162us/step - loss: 0.2978 - accuracy: 0.8935 - val_loss: 3.1530 - val_accuracy: 0.5157\n"
     ]
    },
    {
     "data": {
      "text/plain": [
       "<keras.callbacks.callbacks.History at 0x6420ce4e0>"
      ]
     },
     "execution_count": 16,
     "metadata": {},
     "output_type": "execute_result"
    }
   ],
   "source": [
    "model.fit(x_train, y_train, \n",
    "          epochs=EPOCHS, \n",
    "          batch_size=BATCH_SIZE, \n",
    "          validation_data=(x_test, y_test), \n",
    "          shuffle=True)"
   ]
  },
  {
   "cell_type": "code",
   "execution_count": 17,
   "metadata": {},
   "outputs": [
    {
     "data": {
      "image/png": "[encoded data removed]",
      "text/plain": [
       "<Figure size 432x288 with 1 Axes>"
      ]
     },
     "metadata": {
      "needs_background": "light"
     },
     "output_type": "display_data"
    },
    {
     "data": {
      "image/png": "[encoded data removed]",
      "text/plain": [
       "<Figure size 432x288 with 1 Axes>"
      ]
     },
     "metadata": {
      "needs_background": "light"
     },
     "output_type": "display_data"
    }
   ],
   "source": [
    "# 訓練模型並檢視驗證集的結果\n",
    "import matplotlib.pyplot as plt\n",
    "\n",
    "train_loss = model.history.history[\"loss\"]\n",
    "valid_loss = model.history.history[\"val_loss\"]\n",
    "\n",
    "train_acc = model.history.history[\"accuracy\"]\n",
    "valid_acc = model.history.history[\"val_accuracy\"]\n",
    "\n",
    "plt.plot(range(len(train_loss)), train_loss, label=\"train loss\")\n",
    "plt.plot(range(len(valid_loss)), valid_loss, label=\"valid loss\")\n",
    "plt.legend()\n",
    "plt.title(\"Loss\")\n",
    "plt.show()\n",
    "\n",
    "plt.plot(range(len(train_acc)), train_acc, label=\"train accuracy\")\n",
    "plt.plot(range(len(valid_acc)), valid_acc, label=\"valid accuracy\")\n",
    "plt.legend()\n",
    "plt.title(\"Accuracy\")\n",
    "plt.show()"
   ]
  },
  {
   "cell_type": "markdown",
   "metadata": {},
   "source": [
    "Ans:\n",
    "使用Ａdam演算法比較5層及10層mlp的模型表現發現, 10層mlp適配準確率高於5層(0.5157％>0.4961％),但過擬合現象仍然相當嚴重.\n"
   ]
  }
 ],
 "metadata": {
  "kernelspec": {
   "display_name": "Python 3",
   "language": "python",
   "name": "python3"
  },
  "language_info": {
   "codemirror_mode": {
    "name": "ipython",
    "version": 3
   },
   "file_extension": ".py",
   "mimetype": "text/x-python",
   "name": "python",
   "nbconvert_exporter": "python",
   "pygments_lexer": "ipython3",
   "version": "3.7.3"
  }
 },
 "nbformat": 4,
 "nbformat_minor": 2
}
