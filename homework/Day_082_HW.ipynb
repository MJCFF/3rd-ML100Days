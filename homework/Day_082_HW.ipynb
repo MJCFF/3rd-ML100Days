{
 "cells": [
  {
   "cell_type": "markdown",
   "metadata": {},
   "source": [
    "# Work\n",
    "請比較使用不同層數以及不同 Dropout rate 對訓練的效果\n",
    "將 optimizer 改成使用 Adam 並加上適當的 dropout rate 檢視結果"
   ]
  },
  {
   "cell_type": "code",
   "execution_count": 2,
   "metadata": {},
   "outputs": [
    {
     "name": "stderr",
     "output_type": "stream",
     "text": [
      "Using TensorFlow backend.\n"
     ]
    }
   ],
   "source": [
    "import os\n",
    "import keras\n",
    "import itertools\n",
    "# Disable GPU\n",
    "os.environ[\"CUDA_VISIBLE_DEVICES\"] = \"\""
   ]
  },
  {
   "cell_type": "code",
   "execution_count": 3,
   "metadata": {},
   "outputs": [],
   "source": [
    "train, test = keras.datasets.cifar10.load_data()"
   ]
  },
  {
   "cell_type": "code",
   "execution_count": 4,
   "metadata": {},
   "outputs": [],
   "source": [
    "## 資料前處理\n",
    "def preproc_x(x, flatten=True):\n",
    "    x = x / 255.\n",
    "    if flatten:\n",
    "        x = x.reshape((len(x), -1))\n",
    "    return x\n",
    "\n",
    "def preproc_y(y, num_classes=10):\n",
    "    if y.shape[-1] == 1:\n",
    "        y = keras.utils.to_categorical(y, num_classes)\n",
    "    return y    "
   ]
  },
  {
   "cell_type": "code",
   "execution_count": 5,
   "metadata": {},
   "outputs": [],
   "source": [
    "x_train, y_train = train\n",
    "x_test, y_test = test\n",
    "\n",
    "# Preproc the inputs\n",
    "x_train = preproc_x(x_train)\n",
    "x_test = preproc_x(x_test)\n",
    "\n",
    "# Preprc the outputs\n",
    "y_train = preproc_y(y_train)\n",
    "y_test = preproc_y(y_test)"
   ]
  },
  {
   "cell_type": "code",
   "execution_count": 6,
   "metadata": {},
   "outputs": [],
   "source": [
    "from keras.layers import Dropout\n",
    "\n",
    "\"\"\"\n",
    "建立神經網路，並加入 dropout layer\n",
    "\"\"\"\n",
    "def build_mlp(input_shape, output_units=10, num_neurons=[512, 256, 128], drp_ratio=0.2):\n",
    "    input_layer = keras.layers.Input(input_shape)\n",
    "    \n",
    "    for i, n_units in enumerate(num_neurons):\n",
    "        if i == 0:\n",
    "            x = keras.layers.Dense(units=n_units, \n",
    "                                   activation=\"relu\", \n",
    "                                   name=\"hidden_layer\"+str(i+1))(input_layer)\n",
    "            x = Dropout(drp_ratio)(x)\n",
    "        else:\n",
    "            x = keras.layers.Dense(units=n_units, \n",
    "                                   activation=\"relu\", \n",
    "                                   name=\"hidden_layer\"+str(i+1))(x)\n",
    "            x = Dropout(drp_ratio)(x)\n",
    "    \n",
    "    out = keras.layers.Dense(units=output_units, activation=\"softmax\", name=\"output\")(x)\n",
    "    \n",
    "    model = keras.models.Model(inputs=[input_layer], outputs=[out])\n",
    "    return model"
   ]
  },
  {
   "cell_type": "markdown",
   "metadata": {},
   "source": [
    "drp_ratio=0.25"
   ]
  },
  {
   "cell_type": "code",
   "execution_count": 7,
   "metadata": {},
   "outputs": [],
   "source": [
    "## 超參數設定\n",
    "LEARNING_RATE = 1e-3\n",
    "EPOCHS = 50\n",
    "BATCH_SIZE = 256\n",
    "MOMENTUM = 0.95\n",
    "Dropout_EXP = 0.25"
   ]
  },
  {
   "cell_type": "code",
   "execution_count": 9,
   "metadata": {},
   "outputs": [
    {
     "name": "stdout",
     "output_type": "stream",
     "text": [
      "Model: \"model_2\"\n",
      "_________________________________________________________________\n",
      "Layer (type)                 Output Shape              Param #   \n",
      "=================================================================\n",
      "input_2 (InputLayer)         (None, 3072)              0         \n",
      "_________________________________________________________________\n",
      "hidden_layer1 (Dense)        (None, 512)               1573376   \n",
      "_________________________________________________________________\n",
      "dropout_4 (Dropout)          (None, 512)               0         \n",
      "_________________________________________________________________\n",
      "hidden_layer2 (Dense)        (None, 256)               131328    \n",
      "_________________________________________________________________\n",
      "dropout_5 (Dropout)          (None, 256)               0         \n",
      "_________________________________________________________________\n",
      "hidden_layer3 (Dense)        (None, 128)               32896     \n",
      "_________________________________________________________________\n",
      "dropout_6 (Dropout)          (None, 128)               0         \n",
      "_________________________________________________________________\n",
      "output (Dense)               (None, 10)                1290      \n",
      "=================================================================\n",
      "Total params: 1,738,890\n",
      "Trainable params: 1,738,890\n",
      "Non-trainable params: 0\n",
      "_________________________________________________________________\n",
      "Train on 50000 samples, validate on 10000 samples\n",
      "Epoch 1/50\n",
      "50000/50000 [==============================] - 8s 151us/step - loss: 2.0475 - accuracy: 0.2444 - val_loss: 1.8296 - val_accuracy: 0.3481\n",
      "Epoch 2/50\n",
      "50000/50000 [==============================] - 6s 127us/step - loss: 1.8796 - accuracy: 0.3149 - val_loss: 1.7491 - val_accuracy: 0.3676\n",
      "Epoch 3/50\n",
      "50000/50000 [==============================] - 6s 127us/step - loss: 1.8322 - accuracy: 0.3363 - val_loss: 1.7479 - val_accuracy: 0.3751\n",
      "Epoch 4/50\n",
      "50000/50000 [==============================] - 6s 129us/step - loss: 1.7892 - accuracy: 0.3506 - val_loss: 1.6636 - val_accuracy: 0.4136\n",
      "Epoch 5/50\n",
      "50000/50000 [==============================] - 7s 132us/step - loss: 1.7486 - accuracy: 0.3704 - val_loss: 1.6595 - val_accuracy: 0.4105\n",
      "Epoch 6/50\n",
      "50000/50000 [==============================] - 6s 129us/step - loss: 1.7311 - accuracy: 0.3761 - val_loss: 1.6268 - val_accuracy: 0.4195\n",
      "Epoch 7/50\n",
      "50000/50000 [==============================] - 7s 134us/step - loss: 1.7269 - accuracy: 0.3728 - val_loss: 1.6297 - val_accuracy: 0.4185\n",
      "Epoch 8/50\n",
      "50000/50000 [==============================] - 7s 135us/step - loss: 1.7053 - accuracy: 0.3812 - val_loss: 1.6259 - val_accuracy: 0.4300\n",
      "Epoch 9/50\n",
      "50000/50000 [==============================] - 7s 147us/step - loss: 1.6879 - accuracy: 0.3927 - val_loss: 1.6104 - val_accuracy: 0.4387\n",
      "Epoch 10/50\n",
      "50000/50000 [==============================] - 7s 149us/step - loss: 1.6674 - accuracy: 0.3988 - val_loss: 1.5940 - val_accuracy: 0.4440\n",
      "Epoch 11/50\n",
      "50000/50000 [==============================] - 7s 143us/step - loss: 1.6683 - accuracy: 0.3990 - val_loss: 1.5983 - val_accuracy: 0.4342\n",
      "Epoch 12/50\n",
      "50000/50000 [==============================] - 8s 166us/step - loss: 1.6478 - accuracy: 0.4049 - val_loss: 1.5576 - val_accuracy: 0.4541\n",
      "Epoch 13/50\n",
      "50000/50000 [==============================] - 7s 141us/step - loss: 1.6345 - accuracy: 0.4095 - val_loss: 1.5797 - val_accuracy: 0.4353\n",
      "Epoch 14/50\n",
      "50000/50000 [==============================] - 7s 136us/step - loss: 1.6358 - accuracy: 0.4116 - val_loss: 1.5620 - val_accuracy: 0.4569\n",
      "Epoch 15/50\n",
      "50000/50000 [==============================] - 7s 135us/step - loss: 1.6227 - accuracy: 0.4163 - val_loss: 1.5618 - val_accuracy: 0.4528\n",
      "Epoch 16/50\n",
      "50000/50000 [==============================] - 7s 134us/step - loss: 1.6132 - accuracy: 0.4156 - val_loss: 1.5811 - val_accuracy: 0.4408\n",
      "Epoch 17/50\n",
      "50000/50000 [==============================] - 7s 132us/step - loss: 1.6114 - accuracy: 0.4209 - val_loss: 1.5328 - val_accuracy: 0.4590\n",
      "Epoch 18/50\n",
      "50000/50000 [==============================] - 7s 133us/step - loss: 1.6029 - accuracy: 0.4246 - val_loss: 1.5440 - val_accuracy: 0.4580\n",
      "Epoch 19/50\n",
      "50000/50000 [==============================] - 7s 133us/step - loss: 1.6016 - accuracy: 0.4211 - val_loss: 1.5175 - val_accuracy: 0.4621\n",
      "Epoch 20/50\n",
      "50000/50000 [==============================] - 7s 134us/step - loss: 1.5983 - accuracy: 0.4263 - val_loss: 1.5389 - val_accuracy: 0.4479\n",
      "Epoch 21/50\n",
      "50000/50000 [==============================] - 7s 134us/step - loss: 1.5910 - accuracy: 0.4260 - val_loss: 1.5186 - val_accuracy: 0.4634\n",
      "Epoch 22/50\n",
      "50000/50000 [==============================] - 7s 134us/step - loss: 1.5790 - accuracy: 0.4321 - val_loss: 1.5119 - val_accuracy: 0.4672\n",
      "Epoch 23/50\n",
      "50000/50000 [==============================] - 7s 135us/step - loss: 1.5789 - accuracy: 0.4322 - val_loss: 1.5134 - val_accuracy: 0.4597\n",
      "Epoch 24/50\n",
      "50000/50000 [==============================] - 7s 134us/step - loss: 1.5641 - accuracy: 0.4354 - val_loss: 1.5025 - val_accuracy: 0.4680\n",
      "Epoch 25/50\n",
      "50000/50000 [==============================] - 7s 135us/step - loss: 1.5741 - accuracy: 0.4330 - val_loss: 1.5218 - val_accuracy: 0.4618\n",
      "Epoch 26/50\n",
      "50000/50000 [==============================] - 7s 133us/step - loss: 1.5647 - accuracy: 0.4378 - val_loss: 1.5026 - val_accuracy: 0.4677\n",
      "Epoch 27/50\n",
      "50000/50000 [==============================] - 7s 135us/step - loss: 1.5616 - accuracy: 0.4405 - val_loss: 1.5220 - val_accuracy: 0.4639\n",
      "Epoch 28/50\n",
      "50000/50000 [==============================] - 7s 134us/step - loss: 1.5592 - accuracy: 0.4387 - val_loss: 1.4816 - val_accuracy: 0.4771\n",
      "Epoch 29/50\n",
      "50000/50000 [==============================] - 7s 132us/step - loss: 1.5457 - accuracy: 0.4477 - val_loss: 1.4979 - val_accuracy: 0.4689\n",
      "Epoch 30/50\n",
      "50000/50000 [==============================] - 7s 133us/step - loss: 1.5426 - accuracy: 0.4472 - val_loss: 1.5060 - val_accuracy: 0.4725\n",
      "Epoch 31/50\n",
      "50000/50000 [==============================] - 7s 133us/step - loss: 1.5456 - accuracy: 0.4436 - val_loss: 1.4772 - val_accuracy: 0.4736\n",
      "Epoch 32/50\n",
      "50000/50000 [==============================] - 7s 133us/step - loss: 1.5428 - accuracy: 0.4458 - val_loss: 1.5005 - val_accuracy: 0.4716\n",
      "Epoch 33/50\n",
      "50000/50000 [==============================] - 7s 139us/step - loss: 1.5356 - accuracy: 0.4490 - val_loss: 1.4953 - val_accuracy: 0.4636\n",
      "Epoch 34/50\n",
      "50000/50000 [==============================] - 7s 135us/step - loss: 1.5270 - accuracy: 0.4521 - val_loss: 1.4681 - val_accuracy: 0.4772\n",
      "Epoch 35/50\n",
      "50000/50000 [==============================] - 7s 133us/step - loss: 1.5250 - accuracy: 0.4522 - val_loss: 1.4693 - val_accuracy: 0.4794\n",
      "Epoch 36/50\n",
      "50000/50000 [==============================] - 7s 134us/step - loss: 1.5190 - accuracy: 0.4536 - val_loss: 1.4703 - val_accuracy: 0.4833\n",
      "Epoch 37/50\n",
      "50000/50000 [==============================] - 7s 139us/step - loss: 1.5160 - accuracy: 0.4557 - val_loss: 1.4813 - val_accuracy: 0.4743\n",
      "Epoch 38/50\n",
      "50000/50000 [==============================] - 6s 129us/step - loss: 1.5104 - accuracy: 0.4577 - val_loss: 1.4717 - val_accuracy: 0.4786\n",
      "Epoch 39/50\n",
      "50000/50000 [==============================] - 6s 129us/step - loss: 1.5128 - accuracy: 0.4552 - val_loss: 1.4807 - val_accuracy: 0.4748\n",
      "Epoch 40/50\n",
      "50000/50000 [==============================] - 7s 131us/step - loss: 1.5058 - accuracy: 0.4613 - val_loss: 1.4553 - val_accuracy: 0.4846\n",
      "Epoch 41/50\n",
      "50000/50000 [==============================] - 6s 130us/step - loss: 1.5061 - accuracy: 0.4588 - val_loss: 1.4749 - val_accuracy: 0.4790\n",
      "Epoch 42/50\n",
      "50000/50000 [==============================] - 7s 134us/step - loss: 1.5048 - accuracy: 0.4576 - val_loss: 1.5029 - val_accuracy: 0.4713\n",
      "Epoch 43/50\n",
      "50000/50000 [==============================] - 7s 131us/step - loss: 1.5054 - accuracy: 0.4603 - val_loss: 1.4375 - val_accuracy: 0.4928\n",
      "Epoch 44/50\n",
      "50000/50000 [==============================] - 7s 131us/step - loss: 1.4872 - accuracy: 0.4648 - val_loss: 1.4689 - val_accuracy: 0.4765\n",
      "Epoch 45/50\n",
      "50000/50000 [==============================] - 7s 130us/step - loss: 1.4901 - accuracy: 0.4655 - val_loss: 1.4367 - val_accuracy: 0.4943\n",
      "Epoch 46/50\n"
     ]
    },
    {
     "name": "stdout",
     "output_type": "stream",
     "text": [
      "50000/50000 [==============================] - 6s 128us/step - loss: 1.4890 - accuracy: 0.4662 - val_loss: 1.4620 - val_accuracy: 0.4876\n",
      "Epoch 47/50\n",
      "50000/50000 [==============================] - 6s 127us/step - loss: 1.4915 - accuracy: 0.4643 - val_loss: 1.4626 - val_accuracy: 0.4712\n",
      "Epoch 48/50\n",
      "50000/50000 [==============================] - 6s 128us/step - loss: 1.4896 - accuracy: 0.4638 - val_loss: 1.4515 - val_accuracy: 0.4877\n",
      "Epoch 49/50\n",
      "50000/50000 [==============================] - 7s 132us/step - loss: 1.4738 - accuracy: 0.4696 - val_loss: 1.4474 - val_accuracy: 0.4899\n",
      "Epoch 50/50\n",
      "50000/50000 [==============================] - 7s 131us/step - loss: 1.4797 - accuracy: 0.4687 - val_loss: 1.4465 - val_accuracy: 0.4896\n"
     ]
    }
   ],
   "source": [
    "model = build_mlp(input_shape=x_train.shape[1:], drp_ratio=Dropout_EXP)\n",
    "model.summary()\n",
    "optimizer = keras.optimizers.Adam(lr=LEARNING_RATE, beta_1=0.9, beta_2=0.999, amsgrad=False)\n",
    "model.compile(loss=\"categorical_crossentropy\", metrics=[\"accuracy\"], optimizer=optimizer)\n",
    "\n",
    "model.fit(x_train, y_train, \n",
    "          epochs=EPOCHS, \n",
    "          batch_size=BATCH_SIZE, \n",
    "          validation_data=(x_test, y_test), \n",
    "          shuffle=True)\n",
    "\n",
    "# Collect results\n",
    "train_loss = model.history.history[\"loss\"]\n",
    "valid_loss = model.history.history[\"val_loss\"]\n",
    "train_acc = model.history.history[\"accuracy\"]\n",
    "valid_acc = model.history.history[\"val_accuracy\"]"
   ]
  },
  {
   "cell_type": "code",
   "execution_count": 10,
   "metadata": {},
   "outputs": [
    {
     "data": {
      "image/png": "[encoded data removed]",
      "text/plain": [
       "<Figure size 432x288 with 1 Axes>"
      ]
     },
     "metadata": {
      "needs_background": "light"
     },
     "output_type": "display_data"
    },
    {
     "data": {
      "image/png": "[encoded data removed]",
      "text/plain": [
       "<Figure size 432x288 with 1 Axes>"
      ]
     },
     "metadata": {
      "needs_background": "light"
     },
     "output_type": "display_data"
    }
   ],
   "source": [
    "import matplotlib.pyplot as plt\n",
    "%matplotlib inline\n",
    "\n",
    "plt.plot(range(len(train_loss)), train_loss, label=\"train loss\")\n",
    "plt.plot(range(len(valid_loss)), valid_loss, label=\"valid loss\")\n",
    "plt.legend()\n",
    "plt.title(\"Loss\")\n",
    "plt.show()\n",
    "\n",
    "plt.plot(range(len(train_acc)), train_acc, label=\"train accuracy\")\n",
    "plt.plot(range(len(valid_acc)), valid_acc, label=\"valid accuracy\")\n",
    "plt.legend()\n",
    "plt.title(\"Accuracy\")\n",
    "plt.show()"
   ]
  },
  {
   "cell_type": "code",
   "execution_count": 11,
   "metadata": {},
   "outputs": [],
   "source": [
    "from keras.layers import Dropout\n",
    "\n",
    "\"\"\"\n",
    "建立神經網路，並加入 dropout layer\n",
    "\"\"\"\n",
    "def build_mlp(input_shape, output_units=10, num_neurons=[512, 256, 128], drp_ratio=0.25):\n",
    "    input_layer = keras.layers.Input(input_shape)\n",
    "    \n",
    "    for i, n_units in enumerate(num_neurons):\n",
    "        if i == 0:\n",
    "            x = keras.layers.Dense(units=n_units, \n",
    "                                   activation=\"relu\", \n",
    "                                   name=\"hidden_layer\"+str(i+1))(input_layer)\n",
    "            x = Dropout(drp_ratio)(x)\n",
    "        else:\n",
    "            x = keras.layers.Dense(units=n_units, \n",
    "                                   activation=\"relu\", \n",
    "                                   name=\"hidden_layer\"+str(i+1))(x)\n",
    "            x = Dropout(drp_ratio)(x)\n",
    "    \n",
    "    out = keras.layers.Dense(units=output_units, activation=\"softmax\", name=\"output\")(x)\n",
    "    \n",
    "    model = keras.models.Model(inputs=[input_layer], outputs=[out])\n",
    "    return model"
   ]
  },
  {
   "cell_type": "markdown",
   "metadata": {},
   "source": [
    "drp_ratio=0.3"
   ]
  },
  {
   "cell_type": "code",
   "execution_count": 12,
   "metadata": {},
   "outputs": [],
   "source": [
    "## 超參數設定\n",
    "LEARNING_RATE = 1e-3\n",
    "EPOCHS = 50\n",
    "BATCH_SIZE = 256\n",
    "MOMENTUM = 0.95\n",
    "Dropout_EXP = 0.3"
   ]
  },
  {
   "cell_type": "code",
   "execution_count": 13,
   "metadata": {},
   "outputs": [
    {
     "name": "stdout",
     "output_type": "stream",
     "text": [
      "Model: \"model_3\"\n",
      "_________________________________________________________________\n",
      "Layer (type)                 Output Shape              Param #   \n",
      "=================================================================\n",
      "input_3 (InputLayer)         (None, 3072)              0         \n",
      "_________________________________________________________________\n",
      "hidden_layer1 (Dense)        (None, 512)               1573376   \n",
      "_________________________________________________________________\n",
      "dropout_7 (Dropout)          (None, 512)               0         \n",
      "_________________________________________________________________\n",
      "hidden_layer2 (Dense)        (None, 256)               131328    \n",
      "_________________________________________________________________\n",
      "dropout_8 (Dropout)          (None, 256)               0         \n",
      "_________________________________________________________________\n",
      "hidden_layer3 (Dense)        (None, 128)               32896     \n",
      "_________________________________________________________________\n",
      "dropout_9 (Dropout)          (None, 128)               0         \n",
      "_________________________________________________________________\n",
      "output (Dense)               (None, 10)                1290      \n",
      "=================================================================\n",
      "Total params: 1,738,890\n",
      "Trainable params: 1,738,890\n",
      "Non-trainable params: 0\n",
      "_________________________________________________________________\n",
      "Train on 50000 samples, validate on 10000 samples\n",
      "Epoch 1/50\n",
      "50000/50000 [==============================] - 7s 138us/step - loss: 2.0922 - accuracy: 0.2278 - val_loss: 1.8832 - val_accuracy: 0.3328\n",
      "Epoch 2/50\n",
      "50000/50000 [==============================] - 7s 134us/step - loss: 1.9187 - accuracy: 0.2979 - val_loss: 1.7947 - val_accuracy: 0.3651\n",
      "Epoch 3/50\n",
      "50000/50000 [==============================] - 7s 133us/step - loss: 1.8750 - accuracy: 0.3180 - val_loss: 1.7561 - val_accuracy: 0.3757\n",
      "Epoch 4/50\n",
      "50000/50000 [==============================] - 7s 131us/step - loss: 1.8440 - accuracy: 0.3257 - val_loss: 1.7513 - val_accuracy: 0.3808\n",
      "Epoch 5/50\n",
      "50000/50000 [==============================] - 7s 132us/step - loss: 1.8174 - accuracy: 0.3402 - val_loss: 1.7272 - val_accuracy: 0.3814\n",
      "Epoch 6/50\n",
      "50000/50000 [==============================] - 7s 131us/step - loss: 1.7925 - accuracy: 0.3486 - val_loss: 1.7021 - val_accuracy: 0.4031\n",
      "Epoch 7/50\n",
      "50000/50000 [==============================] - 7s 131us/step - loss: 1.7748 - accuracy: 0.3569 - val_loss: 1.7287 - val_accuracy: 0.3954\n",
      "Epoch 8/50\n",
      "50000/50000 [==============================] - 7s 133us/step - loss: 1.7585 - accuracy: 0.3640 - val_loss: 1.6988 - val_accuracy: 0.4066\n",
      "Epoch 9/50\n",
      "50000/50000 [==============================] - 7s 133us/step - loss: 1.7489 - accuracy: 0.3658 - val_loss: 1.6703 - val_accuracy: 0.4013\n",
      "Epoch 10/50\n",
      "50000/50000 [==============================] - 7s 131us/step - loss: 1.7411 - accuracy: 0.3684 - val_loss: 1.6586 - val_accuracy: 0.4241\n",
      "Epoch 11/50\n",
      "50000/50000 [==============================] - 7s 134us/step - loss: 1.7205 - accuracy: 0.3809 - val_loss: 1.6355 - val_accuracy: 0.4216\n",
      "Epoch 12/50\n",
      "50000/50000 [==============================] - 7s 132us/step - loss: 1.7169 - accuracy: 0.3789 - val_loss: 1.6261 - val_accuracy: 0.4325\n",
      "Epoch 13/50\n",
      "50000/50000 [==============================] - 7s 132us/step - loss: 1.7082 - accuracy: 0.3838 - val_loss: 1.6310 - val_accuracy: 0.4240\n",
      "Epoch 14/50\n",
      "50000/50000 [==============================] - 7s 133us/step - loss: 1.6973 - accuracy: 0.3908 - val_loss: 1.6469 - val_accuracy: 0.4277\n",
      "Epoch 15/50\n",
      "50000/50000 [==============================] - 7s 132us/step - loss: 1.6887 - accuracy: 0.3900 - val_loss: 1.6216 - val_accuracy: 0.4347\n",
      "Epoch 16/50\n",
      "50000/50000 [==============================] - 7s 132us/step - loss: 1.6855 - accuracy: 0.3921 - val_loss: 1.5861 - val_accuracy: 0.4376\n",
      "Epoch 17/50\n",
      "50000/50000 [==============================] - 7s 131us/step - loss: 1.6781 - accuracy: 0.3974 - val_loss: 1.6093 - val_accuracy: 0.4419\n",
      "Epoch 18/50\n",
      "50000/50000 [==============================] - 7s 135us/step - loss: 1.6780 - accuracy: 0.3953 - val_loss: 1.5999 - val_accuracy: 0.4419\n",
      "Epoch 19/50\n",
      "50000/50000 [==============================] - 7s 134us/step - loss: 1.6650 - accuracy: 0.4003 - val_loss: 1.5997 - val_accuracy: 0.4410\n",
      "Epoch 20/50\n",
      "50000/50000 [==============================] - 7s 135us/step - loss: 1.6679 - accuracy: 0.4012 - val_loss: 1.5991 - val_accuracy: 0.4365\n",
      "Epoch 21/50\n",
      "50000/50000 [==============================] - 7s 137us/step - loss: 1.6575 - accuracy: 0.4040 - val_loss: 1.5721 - val_accuracy: 0.4456\n",
      "Epoch 22/50\n",
      "50000/50000 [==============================] - 7s 139us/step - loss: 1.6491 - accuracy: 0.4058 - val_loss: 1.5827 - val_accuracy: 0.4441\n",
      "Epoch 23/50\n",
      "50000/50000 [==============================] - 7s 137us/step - loss: 1.6484 - accuracy: 0.4051 - val_loss: 1.5774 - val_accuracy: 0.4494\n",
      "Epoch 24/50\n",
      "50000/50000 [==============================] - 7s 138us/step - loss: 1.6435 - accuracy: 0.4096 - val_loss: 1.5908 - val_accuracy: 0.4409.6402 - \n",
      "Epoch 25/50\n",
      "50000/50000 [==============================] - 7s 138us/step - loss: 1.6387 - accuracy: 0.4074 - val_loss: 1.6079 - val_accuracy: 0.4396\n",
      "Epoch 26/50\n",
      "50000/50000 [==============================] - 7s 142us/step - loss: 1.6388 - accuracy: 0.4113 - val_loss: 1.5930 - val_accuracy: 0.4447\n",
      "Epoch 27/50\n",
      "50000/50000 [==============================] - 7s 136us/step - loss: 1.6361 - accuracy: 0.4116 - val_loss: 1.6053 - val_accuracy: 0.4355\n",
      "Epoch 28/50\n",
      "50000/50000 [==============================] - 7s 134us/step - loss: 1.6325 - accuracy: 0.4142 - val_loss: 1.5661 - val_accuracy: 0.4448\n",
      "Epoch 29/50\n",
      "50000/50000 [==============================] - 7s 134us/step - loss: 1.6329 - accuracy: 0.4120 - val_loss: 1.5841 - val_accuracy: 0.4506\n",
      "Epoch 30/50\n",
      "50000/50000 [==============================] - 7s 137us/step - loss: 1.6267 - accuracy: 0.4173 - val_loss: 1.5978 - val_accuracy: 0.4409\n",
      "Epoch 31/50\n",
      "50000/50000 [==============================] - 7s 134us/step - loss: 1.6199 - accuracy: 0.4157 - val_loss: 1.5317 - val_accuracy: 0.4675\n",
      "Epoch 32/50\n",
      "50000/50000 [==============================] - 7s 134us/step - loss: 1.6195 - accuracy: 0.4155 - val_loss: 1.5734 - val_accuracy: 0.4517\n",
      "Epoch 33/50\n",
      "50000/50000 [==============================] - 7s 137us/step - loss: 1.6164 - accuracy: 0.4189 - val_loss: 1.5770 - val_accuracy: 0.4474\n",
      "Epoch 34/50\n",
      "50000/50000 [==============================] - 7s 136us/step - loss: 1.6128 - accuracy: 0.4182 - val_loss: 1.5383 - val_accuracy: 0.4647\n",
      "Epoch 35/50\n",
      "50000/50000 [==============================] - 7s 136us/step - loss: 1.6086 - accuracy: 0.4192 - val_loss: 1.5311 - val_accuracy: 0.4620\n",
      "Epoch 36/50\n",
      "50000/50000 [==============================] - 7s 139us/step - loss: 1.6078 - accuracy: 0.4216 - val_loss: 1.5360 - val_accuracy: 0.4617\n",
      "Epoch 37/50\n",
      "50000/50000 [==============================] - 7s 136us/step - loss: 1.6054 - accuracy: 0.4215 - val_loss: 1.5600 - val_accuracy: 0.4521\n",
      "Epoch 38/50\n",
      "50000/50000 [==============================] - 7s 137us/step - loss: 1.6028 - accuracy: 0.4225 - val_loss: 1.5615 - val_accuracy: 0.4551\n",
      "Epoch 39/50\n",
      "50000/50000 [==============================] - 7s 142us/step - loss: 1.5975 - accuracy: 0.4241 - val_loss: 1.5612 - val_accuracy: 0.4563\n",
      "Epoch 40/50\n",
      "50000/50000 [==============================] - 7s 137us/step - loss: 1.5967 - accuracy: 0.4253 - val_loss: 1.5345 - val_accuracy: 0.4607\n",
      "Epoch 41/50\n",
      "50000/50000 [==============================] - 7s 137us/step - loss: 1.5971 - accuracy: 0.4242 - val_loss: 1.5407 - val_accuracy: 0.4579\n",
      "Epoch 42/50\n",
      "50000/50000 [==============================] - 7s 138us/step - loss: 1.5924 - accuracy: 0.4273 - val_loss: 1.5518 - val_accuracy: 0.4570\n",
      "Epoch 43/50\n",
      "50000/50000 [==============================] - 7s 137us/step - loss: 1.5867 - accuracy: 0.4269 - val_loss: 1.5135 - val_accuracy: 0.4660\n",
      "Epoch 44/50\n",
      "50000/50000 [==============================] - 7s 138us/step - loss: 1.5885 - accuracy: 0.4309 - val_loss: 1.5325 - val_accuracy: 0.4637\n",
      "Epoch 45/50\n",
      "50000/50000 [==============================] - 7s 137us/step - loss: 1.5938 - accuracy: 0.4280 - val_loss: 1.5262 - val_accuracy: 0.4633\n",
      "Epoch 46/50\n"
     ]
    },
    {
     "name": "stdout",
     "output_type": "stream",
     "text": [
      "50000/50000 [==============================] - 7s 132us/step - loss: 1.5773 - accuracy: 0.4312 - val_loss: 1.5284 - val_accuracy: 0.4597\n",
      "Epoch 47/50\n",
      "50000/50000 [==============================] - 7s 132us/step - loss: 1.5862 - accuracy: 0.4276 - val_loss: 1.5485 - val_accuracy: 0.4594\n",
      "Epoch 48/50\n",
      "50000/50000 [==============================] - 7s 133us/step - loss: 1.5886 - accuracy: 0.4291 - val_loss: 1.5377 - val_accuracy: 0.4663\n",
      "Epoch 49/50\n",
      "50000/50000 [==============================] - 7s 134us/step - loss: 1.5763 - accuracy: 0.4318 - val_loss: 1.5292 - val_accuracy: 0.4605\n",
      "Epoch 50/50\n",
      "50000/50000 [==============================] - 7s 132us/step - loss: 1.5725 - accuracy: 0.4343 - val_loss: 1.5406 - val_accuracy: 0.4573\n"
     ]
    }
   ],
   "source": [
    "model = build_mlp(input_shape=x_train.shape[1:], drp_ratio=Dropout_EXP)\n",
    "model.summary()\n",
    "optimizer = keras.optimizers.Adam(lr=LEARNING_RATE, beta_1=0.9, beta_2=0.999, amsgrad=False)\n",
    "model.compile(loss=\"categorical_crossentropy\", metrics=[\"accuracy\"], optimizer=optimizer)\n",
    "\n",
    "model.fit(x_train, y_train, \n",
    "          epochs=EPOCHS, \n",
    "          batch_size=BATCH_SIZE, \n",
    "          validation_data=(x_test, y_test), \n",
    "          shuffle=True)\n",
    "\n",
    "# Collect results\n",
    "train_loss = model.history.history[\"loss\"]\n",
    "valid_loss = model.history.history[\"val_loss\"]\n",
    "train_acc = model.history.history[\"accuracy\"]\n",
    "valid_acc = model.history.history[\"val_accuracy\"]"
   ]
  },
  {
   "cell_type": "code",
   "execution_count": 14,
   "metadata": {},
   "outputs": [
    {
     "data": {
      "image/png": "[encoded data removed]",
      "text/plain": [
       "<Figure size 432x288 with 1 Axes>"
      ]
     },
     "metadata": {
      "needs_background": "light"
     },
     "output_type": "display_data"
    },
    {
     "data": {
      "image/png": "[encoded data removed]",
      "text/plain": [
       "<Figure size 432x288 with 1 Axes>"
      ]
     },
     "metadata": {
      "needs_background": "light"
     },
     "output_type": "display_data"
    }
   ],
   "source": [
    "import matplotlib.pyplot as plt\n",
    "%matplotlib inline\n",
    "\n",
    "plt.plot(range(len(train_loss)), train_loss, label=\"train loss\")\n",
    "plt.plot(range(len(valid_loss)), valid_loss, label=\"valid loss\")\n",
    "plt.legend()\n",
    "plt.title(\"Loss\")\n",
    "plt.show()\n",
    "\n",
    "plt.plot(range(len(train_acc)), train_acc, label=\"train accuracy\")\n",
    "plt.plot(range(len(valid_acc)), valid_acc, label=\"valid accuracy\")\n",
    "plt.legend()\n",
    "plt.title(\"Accuracy\")\n",
    "plt.show()"
   ]
  },
  {
   "cell_type": "code",
   "execution_count": 15,
   "metadata": {},
   "outputs": [],
   "source": [
    "from keras.layers import Dropout\n",
    "\n",
    "\"\"\"\n",
    "建立神經網路，並加入 dropout layer\n",
    "\"\"\"\n",
    "def build_mlp(input_shape, output_units=10, num_neurons=[512, 256, 128], drp_ratio=0.25):\n",
    "    input_layer = keras.layers.Input(input_shape)\n",
    "    \n",
    "    for i, n_units in enumerate(num_neurons):\n",
    "        if i == 0:\n",
    "            x = keras.layers.Dense(units=n_units, \n",
    "                                   activation=\"relu\", \n",
    "                                   name=\"hidden_layer\"+str(i+1))(input_layer)\n",
    "            x = Dropout(drp_ratio)(x)\n",
    "        else:\n",
    "            x = keras.layers.Dense(units=n_units, \n",
    "                                   activation=\"relu\", \n",
    "                                   name=\"hidden_layer\"+str(i+1))(x)\n",
    "            x = Dropout(drp_ratio)(x)\n",
    "    \n",
    "    out = keras.layers.Dense(units=output_units, activation=\"softmax\", name=\"output\")(x)\n",
    "    \n",
    "    model = keras.models.Model(inputs=[input_layer], outputs=[out])\n",
    "    return model"
   ]
  },
  {
   "cell_type": "code",
   "execution_count": 16,
   "metadata": {},
   "outputs": [],
   "source": [
    "drp_ratio=0.2"
   ]
  },
  {
   "cell_type": "code",
   "execution_count": 17,
   "metadata": {},
   "outputs": [],
   "source": [
    "## 超參數設定\n",
    "LEARNING_RATE = 1e-3\n",
    "EPOCHS = 50\n",
    "BATCH_SIZE = 256\n",
    "MOMENTUM = 0.95\n",
    "Dropout_EXP = 0.2"
   ]
  },
  {
   "cell_type": "code",
   "execution_count": 18,
   "metadata": {},
   "outputs": [
    {
     "name": "stdout",
     "output_type": "stream",
     "text": [
      "Model: \"model_4\"\n",
      "_________________________________________________________________\n",
      "Layer (type)                 Output Shape              Param #   \n",
      "=================================================================\n",
      "input_4 (InputLayer)         (None, 3072)              0         \n",
      "_________________________________________________________________\n",
      "hidden_layer1 (Dense)        (None, 512)               1573376   \n",
      "_________________________________________________________________\n",
      "dropout_10 (Dropout)         (None, 512)               0         \n",
      "_________________________________________________________________\n",
      "hidden_layer2 (Dense)        (None, 256)               131328    \n",
      "_________________________________________________________________\n",
      "dropout_11 (Dropout)         (None, 256)               0         \n",
      "_________________________________________________________________\n",
      "hidden_layer3 (Dense)        (None, 128)               32896     \n",
      "_________________________________________________________________\n",
      "dropout_12 (Dropout)         (None, 128)               0         \n",
      "_________________________________________________________________\n",
      "output (Dense)               (None, 10)                1290      \n",
      "=================================================================\n",
      "Total params: 1,738,890\n",
      "Trainable params: 1,738,890\n",
      "Non-trainable params: 0\n",
      "_________________________________________________________________\n",
      "Train on 50000 samples, validate on 10000 samples\n",
      "Epoch 1/50\n",
      "50000/50000 [==============================] - 7s 140us/step - loss: 2.0444 - accuracy: 0.2438 - val_loss: 1.8398 - val_accuracy: 0.3324\n",
      "Epoch 2/50\n",
      "50000/50000 [==============================] - 7s 133us/step - loss: 1.8435 - accuracy: 0.3287 - val_loss: 1.7037 - val_accuracy: 0.3933\n",
      "Epoch 3/50\n",
      "50000/50000 [==============================] - 7s 135us/step - loss: 1.7747 - accuracy: 0.3614 - val_loss: 1.6836 - val_accuracy: 0.4056\n",
      "Epoch 4/50\n",
      "50000/50000 [==============================] - 7s 136us/step - loss: 1.7459 - accuracy: 0.3687 - val_loss: 1.6580 - val_accuracy: 0.4103\n",
      "Epoch 5/50\n",
      "50000/50000 [==============================] - 7s 134us/step - loss: 1.7122 - accuracy: 0.3830 - val_loss: 1.6387 - val_accuracy: 0.4107\n",
      "Epoch 6/50\n",
      "50000/50000 [==============================] - 7s 134us/step - loss: 1.6859 - accuracy: 0.3922 - val_loss: 1.6240 - val_accuracy: 0.4284\n",
      "Epoch 7/50\n",
      "50000/50000 [==============================] - 7s 136us/step - loss: 1.6673 - accuracy: 0.3991 - val_loss: 1.5613 - val_accuracy: 0.4348\n",
      "Epoch 8/50\n",
      "50000/50000 [==============================] - 7s 137us/step - loss: 1.6450 - accuracy: 0.4058 - val_loss: 1.5531 - val_accuracy: 0.4476\n",
      "Epoch 9/50\n",
      "50000/50000 [==============================] - 7s 136us/step - loss: 1.6278 - accuracy: 0.4132 - val_loss: 1.5459 - val_accuracy: 0.4580\n",
      "Epoch 10/50\n",
      "50000/50000 [==============================] - 7s 135us/step - loss: 1.6129 - accuracy: 0.4164 - val_loss: 1.5268 - val_accuracy: 0.4591\n",
      "Epoch 11/50\n",
      "50000/50000 [==============================] - 7s 136us/step - loss: 1.6083 - accuracy: 0.4213 - val_loss: 1.5480 - val_accuracy: 0.4450\n",
      "Epoch 12/50\n",
      "50000/50000 [==============================] - 7s 137us/step - loss: 1.5993 - accuracy: 0.4219 - val_loss: 1.5388 - val_accuracy: 0.4500\n",
      "Epoch 13/50\n",
      "50000/50000 [==============================] - 7s 135us/step - loss: 1.5881 - accuracy: 0.4240 - val_loss: 1.5342 - val_accuracy: 0.4544\n",
      "Epoch 14/50\n",
      "50000/50000 [==============================] - 7s 136us/step - loss: 1.5730 - accuracy: 0.4331 - val_loss: 1.5071 - val_accuracy: 0.4693\n",
      "Epoch 15/50\n",
      "50000/50000 [==============================] - 7s 137us/step - loss: 1.5652 - accuracy: 0.4363 - val_loss: 1.4814 - val_accuracy: 0.4730\n",
      "Epoch 16/50\n",
      "50000/50000 [==============================] - 7s 135us/step - loss: 1.5584 - accuracy: 0.4393 - val_loss: 1.4856 - val_accuracy: 0.4694\n",
      "Epoch 17/50\n",
      "50000/50000 [==============================] - 7s 140us/step - loss: 1.5451 - accuracy: 0.4455 - val_loss: 1.4964 - val_accuracy: 0.4714\n",
      "Epoch 18/50\n",
      "50000/50000 [==============================] - 7s 136us/step - loss: 1.5334 - accuracy: 0.4472 - val_loss: 1.4785 - val_accuracy: 0.4748\n",
      "Epoch 19/50\n",
      "50000/50000 [==============================] - 7s 137us/step - loss: 1.5321 - accuracy: 0.4484 - val_loss: 1.4888 - val_accuracy: 0.4751\n",
      "Epoch 20/50\n",
      "50000/50000 [==============================] - 7s 137us/step - loss: 1.5248 - accuracy: 0.4485 - val_loss: 1.4805 - val_accuracy: 0.4734\n",
      "Epoch 21/50\n",
      "50000/50000 [==============================] - 7s 139us/step - loss: 1.5225 - accuracy: 0.4498 - val_loss: 1.4699 - val_accuracy: 0.4783\n",
      "Epoch 22/50\n",
      "50000/50000 [==============================] - 7s 137us/step - loss: 1.5099 - accuracy: 0.4553 - val_loss: 1.4831 - val_accuracy: 0.4694\n",
      "Epoch 23/50\n",
      "50000/50000 [==============================] - 7s 136us/step - loss: 1.5120 - accuracy: 0.4548 - val_loss: 1.4511 - val_accuracy: 0.4864\n",
      "Epoch 24/50\n",
      "50000/50000 [==============================] - 7s 137us/step - loss: 1.5084 - accuracy: 0.4581 - val_loss: 1.4600 - val_accuracy: 0.4762\n",
      "Epoch 25/50\n",
      "50000/50000 [==============================] - 7s 136us/step - loss: 1.4966 - accuracy: 0.4613 - val_loss: 1.4388 - val_accuracy: 0.4888\n",
      "Epoch 26/50\n",
      "50000/50000 [==============================] - 7s 141us/step - loss: 1.4983 - accuracy: 0.4630 - val_loss: 1.4814 - val_accuracy: 0.4710\n",
      "Epoch 27/50\n",
      "50000/50000 [==============================] - 7s 137us/step - loss: 1.4919 - accuracy: 0.4612 - val_loss: 1.4568 - val_accuracy: 0.4804\n",
      "Epoch 28/50\n",
      "50000/50000 [==============================] - 7s 136us/step - loss: 1.4912 - accuracy: 0.4618 - val_loss: 1.4244 - val_accuracy: 0.4911\n",
      "Epoch 29/50\n",
      "50000/50000 [==============================] - 7s 136us/step - loss: 1.4751 - accuracy: 0.4651 - val_loss: 1.4471 - val_accuracy: 0.4824\n",
      "Epoch 30/50\n",
      "50000/50000 [==============================] - 7s 137us/step - loss: 1.4802 - accuracy: 0.4669 - val_loss: 1.4604 - val_accuracy: 0.4770\n",
      "Epoch 31/50\n",
      "50000/50000 [==============================] - 7s 135us/step - loss: 1.4707 - accuracy: 0.4714 - val_loss: 1.4344 - val_accuracy: 0.4883\n",
      "Epoch 32/50\n",
      "50000/50000 [==============================] - 7s 138us/step - loss: 1.4658 - accuracy: 0.4762 - val_loss: 1.4499 - val_accuracy: 0.4828\n",
      "Epoch 33/50\n",
      "50000/50000 [==============================] - 7s 136us/step - loss: 1.4649 - accuracy: 0.4721 - val_loss: 1.4187 - val_accuracy: 0.4914\n",
      "Epoch 34/50\n",
      "50000/50000 [==============================] - 7s 136us/step - loss: 1.4533 - accuracy: 0.4782 - val_loss: 1.4262 - val_accuracy: 0.4940\n",
      "Epoch 35/50\n",
      "50000/50000 [==============================] - 7s 139us/step - loss: 1.4495 - accuracy: 0.4800 - val_loss: 1.4208 - val_accuracy: 0.5000\n",
      "Epoch 36/50\n",
      "50000/50000 [==============================] - 7s 137us/step - loss: 1.4446 - accuracy: 0.4802 - val_loss: 1.4279 - val_accuracy: 0.4908\n",
      "Epoch 37/50\n",
      "50000/50000 [==============================] - 7s 137us/step - loss: 1.4408 - accuracy: 0.4813 - val_loss: 1.4218 - val_accuracy: 0.5007\n",
      "Epoch 38/50\n",
      "50000/50000 [==============================] - 7s 137us/step - loss: 1.4399 - accuracy: 0.4827 - val_loss: 1.4298 - val_accuracy: 0.4927\n",
      "Epoch 39/50\n",
      "50000/50000 [==============================] - 7s 138us/step - loss: 1.4313 - accuracy: 0.4842 - val_loss: 1.4392 - val_accuracy: 0.4925\n",
      "Epoch 40/50\n",
      "50000/50000 [==============================] - 7s 138us/step - loss: 1.4318 - accuracy: 0.4862 - val_loss: 1.4056 - val_accuracy: 0.4981\n",
      "Epoch 41/50\n",
      "50000/50000 [==============================] - 7s 137us/step - loss: 1.4291 - accuracy: 0.4854 - val_loss: 1.3991 - val_accuracy: 0.5035\n",
      "Epoch 42/50\n",
      "50000/50000 [==============================] - 7s 137us/step - loss: 1.4254 - accuracy: 0.4850 - val_loss: 1.4346 - val_accuracy: 0.4899\n",
      "Epoch 43/50\n",
      "50000/50000 [==============================] - 7s 137us/step - loss: 1.4168 - accuracy: 0.4908 - val_loss: 1.4284 - val_accuracy: 0.4930\n",
      "Epoch 44/50\n",
      "50000/50000 [==============================] - 7s 140us/step - loss: 1.4171 - accuracy: 0.4905 - val_loss: 1.4166 - val_accuracy: 0.4936\n",
      "Epoch 45/50\n",
      "50000/50000 [==============================] - 7s 140us/step - loss: 1.4142 - accuracy: 0.4899 - val_loss: 1.4114 - val_accuracy: 0.4971\n",
      "Epoch 46/50\n"
     ]
    },
    {
     "name": "stdout",
     "output_type": "stream",
     "text": [
      "50000/50000 [==============================] - 7s 132us/step - loss: 1.4150 - accuracy: 0.4900 - val_loss: 1.4117 - val_accuracy: 0.4957\n",
      "Epoch 47/50\n",
      "50000/50000 [==============================] - 7s 132us/step - loss: 1.4162 - accuracy: 0.4898 - val_loss: 1.4065 - val_accuracy: 0.5024\n",
      "Epoch 48/50\n",
      "50000/50000 [==============================] - 7s 132us/step - loss: 1.4042 - accuracy: 0.4929 - val_loss: 1.4129 - val_accuracy: 0.4947\n",
      "Epoch 49/50\n",
      "50000/50000 [==============================] - 7s 133us/step - loss: 1.4098 - accuracy: 0.4936 - val_loss: 1.4016 - val_accuracy: 0.5004\n",
      "Epoch 50/50\n",
      "50000/50000 [==============================] - 7s 132us/step - loss: 1.4127 - accuracy: 0.4904 - val_loss: 1.4382 - val_accuracy: 0.4819\n"
     ]
    }
   ],
   "source": [
    "model = build_mlp(input_shape=x_train.shape[1:], drp_ratio=Dropout_EXP)\n",
    "model.summary()\n",
    "optimizer = keras.optimizers.Adam(lr=LEARNING_RATE, beta_1=0.9, beta_2=0.999, amsgrad=False)\n",
    "model.compile(loss=\"categorical_crossentropy\", metrics=[\"accuracy\"], optimizer=optimizer)\n",
    "\n",
    "model.fit(x_train, y_train, \n",
    "          epochs=EPOCHS, \n",
    "          batch_size=BATCH_SIZE, \n",
    "          validation_data=(x_test, y_test), \n",
    "          shuffle=True)\n",
    "\n",
    "# Collect results\n",
    "train_loss = model.history.history[\"loss\"]\n",
    "valid_loss = model.history.history[\"val_loss\"]\n",
    "train_acc = model.history.history[\"accuracy\"]\n",
    "valid_acc = model.history.history[\"val_accuracy\"]"
   ]
  },
  {
   "cell_type": "code",
   "execution_count": 19,
   "metadata": {},
   "outputs": [
    {
     "data": {
      "image/png": "[encoded data removed]",
      "text/plain": [
       "<Figure size 432x288 with 1 Axes>"
      ]
     },
     "metadata": {
      "needs_background": "light"
     },
     "output_type": "display_data"
    },
    {
     "data": {
      "image/png": "[encoded data removed]",
      "text/plain": [
       "<Figure size 432x288 with 1 Axes>"
      ]
     },
     "metadata": {
      "needs_background": "light"
     },
     "output_type": "display_data"
    }
   ],
   "source": [
    "import matplotlib.pyplot as plt\n",
    "%matplotlib inline\n",
    "\n",
    "plt.plot(range(len(train_loss)), train_loss, label=\"train loss\")\n",
    "plt.plot(range(len(valid_loss)), valid_loss, label=\"valid loss\")\n",
    "plt.legend()\n",
    "plt.title(\"Loss\")\n",
    "plt.show()\n",
    "\n",
    "plt.plot(range(len(train_acc)), train_acc, label=\"train accuracy\")\n",
    "plt.plot(range(len(valid_acc)), valid_acc, label=\"valid accuracy\")\n",
    "plt.legend()\n",
    "plt.title(\"Accuracy\")\n",
    "plt.show()"
   ]
  },
  {
   "cell_type": "markdown",
   "metadata": {},
   "source": [
    "由上圖可知,dropout_rate = 0.2時, 泛化準確率最高約為0.5024. \n",
    "         dropout_rate = 0.25時, 泛化準確率最高約為0.4943.\n",
    "         dropout_rate = 0.3時, 泛化準確率最高約為0.466.\n"
   ]
  }
 ],
 "metadata": {
  "kernelspec": {
   "display_name": "Python 3",
   "language": "python",
   "name": "python3"
  },
  "language_info": {
   "codemirror_mode": {
    "name": "ipython",
    "version": 3
   },
   "file_extension": ".py",
   "mimetype": "text/x-python",
   "name": "python",
   "nbconvert_exporter": "python",
   "pygments_lexer": "ipython3",
   "version": "3.7.3"
  }
 },
 "nbformat": 4,
 "nbformat_minor": 2
}
