{
 "cells": [
  {
   "cell_type": "markdown",
   "metadata": {},
   "source": [
    "# Work\n",
    "試改變 monitor \"Validation Accuracy\" 並比較結果\n",
    "調整 earlystop 的等待次數至 10, 25 並比較結果"
   ]
  },
  {
   "cell_type": "code",
   "execution_count": 1,
   "metadata": {},
   "outputs": [
    {
     "name": "stderr",
     "output_type": "stream",
     "text": [
      "Using TensorFlow backend.\n"
     ]
    }
   ],
   "source": [
    "import os\n",
    "import keras\n",
    "import matplotlib.pyplot as plt\n",
    "%matplotlib inline\n",
    "\n",
    "\n",
    "# Disable GPU\n",
    "os.environ[\"CUDA_VISIBLE_DEVICES\"] = \"\""
   ]
  },
  {
   "cell_type": "code",
   "execution_count": 2,
   "metadata": {},
   "outputs": [],
   "source": [
    "train, test = keras.datasets.cifar10.load_data()"
   ]
  },
  {
   "cell_type": "code",
   "execution_count": 3,
   "metadata": {},
   "outputs": [],
   "source": [
    "## 資料前處理\n",
    "def preproc_x(x, flatten=True):\n",
    "    x = x / 255.\n",
    "    if flatten:\n",
    "        x = x.reshape((len(x), -1))\n",
    "    return x\n",
    "\n",
    "def preproc_y(y, num_classes=10):\n",
    "    if y.shape[-1] == 1:\n",
    "        y = keras.utils.to_categorical(y, num_classes)\n",
    "    return y    "
   ]
  },
  {
   "cell_type": "code",
   "execution_count": 4,
   "metadata": {},
   "outputs": [],
   "source": [
    "x_train, y_train = train\n",
    "x_test, y_test = test\n",
    "\n",
    "# Preproc the inputs\n",
    "x_train = preproc_x(x_train)\n",
    "x_test = preproc_x(x_test)\n",
    "\n",
    "# Preprc the outputs\n",
    "y_train = preproc_y(y_train)\n",
    "y_test = preproc_y(y_test)"
   ]
  },
  {
   "cell_type": "code",
   "execution_count": 5,
   "metadata": {},
   "outputs": [],
   "source": [
    "from keras.layers import BatchNormalization\n",
    "\n",
    "\"\"\"\n",
    "建立神經網路，並加入 BN layer\n",
    "\"\"\"\n",
    "def build_mlp(input_shape, output_units=10, num_neurons=[512, 256, 128]):\n",
    "    input_layer = keras.layers.Input(input_shape)\n",
    "    \n",
    "    for i, n_units in enumerate(num_neurons):\n",
    "        if i == 0:\n",
    "            x = keras.layers.Dense(units=n_units, \n",
    "                                   activation=\"relu\", \n",
    "                                   name=\"hidden_layer\"+str(i+1))(input_layer)\n",
    "            x = BatchNormalization()(x)\n",
    "        else:\n",
    "            x = keras.layers.Dense(units=n_units, \n",
    "                                   activation=\"relu\", \n",
    "                                   name=\"hidden_layer\"+str(i+1))(x)\n",
    "            x = BatchNormalization()(x)\n",
    "    \n",
    "    out = keras.layers.Dense(units=output_units, activation=\"softmax\", name=\"output\")(x)\n",
    "    \n",
    "    model = keras.models.Model(inputs=[input_layer], outputs=[out])\n",
    "    return model"
   ]
  },
  {
   "cell_type": "code",
   "execution_count": 6,
   "metadata": {},
   "outputs": [],
   "source": [
    "## 超參數設定\n",
    "LEARNING_RATE = 1e-3\n",
    "EPOCHS = 50\n",
    "BATCH_SIZE = 1024\n",
    "MOMENTUM = 0.95"
   ]
  },
  {
   "cell_type": "code",
   "execution_count": 7,
   "metadata": {},
   "outputs": [],
   "source": [
    "#調整 earlystop 的等待次數至 10\n",
    "#最佳泛化準確率為0.5039\n"
   ]
  },
  {
   "cell_type": "code",
   "execution_count": 8,
   "metadata": {},
   "outputs": [],
   "source": [
    "\"\"\"\n",
    "# 載入 Callbacks, 並將 monitor 設定為監控 validation loss\n",
    "\"\"\"\n",
    "from keras.callbacks import EarlyStopping\n",
    "\n",
    "earlystop = EarlyStopping(monitor=\"Validation Accuracy\", \n",
    "                          patience=10, \n",
    "                          verbose=1\n",
    "                          )"
   ]
  },
  {
   "cell_type": "code",
   "execution_count": 9,
   "metadata": {},
   "outputs": [
    {
     "name": "stdout",
     "output_type": "stream",
     "text": [
      "Model: \"model_1\"\n",
      "_________________________________________________________________\n",
      "Layer (type)                 Output Shape              Param #   \n",
      "=================================================================\n",
      "input_1 (InputLayer)         (None, 3072)              0         \n",
      "_________________________________________________________________\n",
      "hidden_layer1 (Dense)        (None, 512)               1573376   \n",
      "_________________________________________________________________\n",
      "batch_normalization_1 (Batch (None, 512)               2048      \n",
      "_________________________________________________________________\n",
      "hidden_layer2 (Dense)        (None, 256)               131328    \n",
      "_________________________________________________________________\n",
      "batch_normalization_2 (Batch (None, 256)               1024      \n",
      "_________________________________________________________________\n",
      "hidden_layer3 (Dense)        (None, 128)               32896     \n",
      "_________________________________________________________________\n",
      "batch_normalization_3 (Batch (None, 128)               512       \n",
      "_________________________________________________________________\n",
      "output (Dense)               (None, 10)                1290      \n",
      "=================================================================\n",
      "Total params: 1,742,474\n",
      "Trainable params: 1,740,682\n",
      "Non-trainable params: 1,792\n",
      "_________________________________________________________________\n",
      "Train on 50000 samples, validate on 10000 samples\n",
      "Epoch 1/50\n",
      "50000/50000 [==============================] - 6s 113us/step - loss: 2.2032 - accuracy: 0.2725 - val_loss: 2.1093 - val_accuracy: 0.2517\n",
      "Epoch 2/50\n",
      " 2048/50000 [>.............................] - ETA: 4s - loss: 1.8114 - accuracy: 0.3833"
     ]
    },
    {
     "name": "stderr",
     "output_type": "stream",
     "text": [
      "//anaconda3/lib/python3.7/site-packages/keras/callbacks/callbacks.py:846: RuntimeWarning: Early stopping conditioned on metric `Validation Accuracy` which is not available. Available metrics are: val_loss,val_accuracy,loss,accuracy\n",
      "  (self.monitor, ','.join(list(logs.keys()))), RuntimeWarning\n"
     ]
    },
    {
     "name": "stdout",
     "output_type": "stream",
     "text": [
      "50000/50000 [==============================] - 5s 99us/step - loss: 1.7331 - accuracy: 0.3962 - val_loss: 1.9648 - val_accuracy: 0.3069\n",
      "Epoch 3/50\n",
      "50000/50000 [==============================] - 5s 100us/step - loss: 1.6098 - accuracy: 0.4380 - val_loss: 1.8254 - val_accuracy: 0.3618\n",
      "Epoch 4/50\n",
      "50000/50000 [==============================] - 5s 99us/step - loss: 1.5368 - accuracy: 0.4641 - val_loss: 1.7174 - val_accuracy: 0.4025\n",
      "Epoch 5/50\n",
      "50000/50000 [==============================] - 5s 101us/step - loss: 1.4827 - accuracy: 0.4835 - val_loss: 1.6498 - val_accuracy: 0.4187\n",
      "Epoch 6/50\n",
      "50000/50000 [==============================] - 5s 101us/step - loss: 1.4385 - accuracy: 0.4987 - val_loss: 1.5867 - val_accuracy: 0.4409\n",
      "Epoch 7/50\n",
      "50000/50000 [==============================] - 5s 100us/step - loss: 1.4008 - accuracy: 0.5128 - val_loss: 1.5503 - val_accuracy: 0.4508\n",
      "Epoch 8/50\n",
      "50000/50000 [==============================] - 5s 99us/step - loss: 1.3668 - accuracy: 0.5250 - val_loss: 1.5232 - val_accuracy: 0.4600\n",
      "Epoch 9/50\n",
      "50000/50000 [==============================] - 5s 99us/step - loss: 1.3350 - accuracy: 0.5366 - val_loss: 1.5009 - val_accuracy: 0.4685\n",
      "Epoch 10/50\n",
      "50000/50000 [==============================] - 5s 100us/step - loss: 1.3056 - accuracy: 0.5475 - val_loss: 1.4933 - val_accuracy: 0.4709\n",
      "Epoch 11/50\n",
      "50000/50000 [==============================] - 5s 100us/step - loss: 1.2781 - accuracy: 0.5583 - val_loss: 1.4798 - val_accuracy: 0.4768\n",
      "Epoch 12/50\n",
      "50000/50000 [==============================] - 5s 101us/step - loss: 1.2521 - accuracy: 0.5677 - val_loss: 1.4684 - val_accuracy: 0.4815\n",
      "Epoch 13/50\n",
      "50000/50000 [==============================] - 5s 101us/step - loss: 1.2270 - accuracy: 0.5760 - val_loss: 1.4745 - val_accuracy: 0.4825\n",
      "Epoch 14/50\n",
      "50000/50000 [==============================] - 5s 101us/step - loss: 1.2028 - accuracy: 0.5846 - val_loss: 1.4623 - val_accuracy: 0.4865\n",
      "Epoch 15/50\n",
      "50000/50000 [==============================] - 5s 101us/step - loss: 1.1785 - accuracy: 0.5950 - val_loss: 1.4767 - val_accuracy: 0.4843\n",
      "Epoch 16/50\n",
      "50000/50000 [==============================] - 5s 101us/step - loss: 1.1558 - accuracy: 0.6043 - val_loss: 1.4494 - val_accuracy: 0.4933\n",
      "Epoch 17/50\n",
      "50000/50000 [==============================] - 5s 101us/step - loss: 1.1330 - accuracy: 0.6121 - val_loss: 1.4805 - val_accuracy: 0.4906\n",
      "Epoch 18/50\n",
      "50000/50000 [==============================] - 5s 101us/step - loss: 1.1122 - accuracy: 0.6210 - val_loss: 1.4567 - val_accuracy: 0.4933\n",
      "Epoch 19/50\n",
      "50000/50000 [==============================] - 5s 103us/step - loss: 1.0891 - accuracy: 0.6277 - val_loss: 1.4481 - val_accuracy: 0.4972\n",
      "Epoch 20/50\n",
      "50000/50000 [==============================] - 5s 101us/step - loss: 1.0670 - accuracy: 0.6380 - val_loss: 1.4606 - val_accuracy: 0.4927\n",
      "Epoch 21/50\n",
      "50000/50000 [==============================] - 5s 101us/step - loss: 1.0460 - accuracy: 0.6449 - val_loss: 1.4577 - val_accuracy: 0.4932\n",
      "Epoch 22/50\n",
      "50000/50000 [==============================] - 5s 102us/step - loss: 1.0245 - accuracy: 0.6538 - val_loss: 1.4573 - val_accuracy: 0.4980\n",
      "Epoch 23/50\n",
      "50000/50000 [==============================] - 5s 101us/step - loss: 1.0042 - accuracy: 0.6612 - val_loss: 1.4508 - val_accuracy: 0.5007\n",
      "Epoch 24/50\n",
      "50000/50000 [==============================] - 5s 101us/step - loss: 0.9858 - accuracy: 0.6684 - val_loss: 1.4545 - val_accuracy: 0.5011\n",
      "Epoch 25/50\n",
      "50000/50000 [==============================] - 5s 102us/step - loss: 0.9626 - accuracy: 0.6759 - val_loss: 1.4708 - val_accuracy: 0.4938\n",
      "Epoch 26/50\n",
      "50000/50000 [==============================] - 5s 103us/step - loss: 0.9444 - accuracy: 0.6832 - val_loss: 1.4542 - val_accuracy: 0.4972\n",
      "Epoch 27/50\n",
      "50000/50000 [==============================] - 5s 103us/step - loss: 0.9245 - accuracy: 0.6930 - val_loss: 1.4825 - val_accuracy: 0.4910\n",
      "Epoch 28/50\n",
      "50000/50000 [==============================] - 5s 102us/step - loss: 0.9046 - accuracy: 0.6989 - val_loss: 1.4661 - val_accuracy: 0.5028\n",
      "Epoch 29/50\n",
      "50000/50000 [==============================] - 5s 101us/step - loss: 0.8826 - accuracy: 0.7079 - val_loss: 1.4769 - val_accuracy: 0.4978\n",
      "Epoch 30/50\n",
      "50000/50000 [==============================] - 5s 101us/step - loss: 0.8629 - accuracy: 0.7153 - val_loss: 1.4851 - val_accuracy: 0.4953\n",
      "Epoch 31/50\n",
      "50000/50000 [==============================] - 5s 101us/step - loss: 0.8431 - accuracy: 0.7229 - val_loss: 1.5006 - val_accuracy: 0.4881\n",
      "Epoch 32/50\n",
      "50000/50000 [==============================] - 5s 102us/step - loss: 0.8238 - accuracy: 0.7312 - val_loss: 1.4964 - val_accuracy: 0.4990\n",
      "Epoch 33/50\n",
      "50000/50000 [==============================] - 5s 102us/step - loss: 0.8050 - accuracy: 0.7389 - val_loss: 1.5051 - val_accuracy: 0.4991\n",
      "Epoch 34/50\n",
      "50000/50000 [==============================] - 5s 102us/step - loss: 0.7856 - accuracy: 0.7461 - val_loss: 1.5032 - val_accuracy: 0.4961\n",
      "Epoch 35/50\n",
      "50000/50000 [==============================] - 5s 102us/step - loss: 0.7680 - accuracy: 0.7526 - val_loss: 1.5088 - val_accuracy: 0.4992\n",
      "Epoch 36/50\n",
      "50000/50000 [==============================] - 5s 104us/step - loss: 0.7484 - accuracy: 0.7612 - val_loss: 1.5249 - val_accuracy: 0.4988\n",
      "Epoch 37/50\n",
      "50000/50000 [==============================] - 5s 105us/step - loss: 0.7286 - accuracy: 0.7695 - val_loss: 1.5375 - val_accuracy: 0.4991\n",
      "Epoch 38/50\n",
      "50000/50000 [==============================] - 5s 102us/step - loss: 0.7120 - accuracy: 0.7745 - val_loss: 1.5466 - val_accuracy: 0.4884\n",
      "Epoch 39/50\n",
      "50000/50000 [==============================] - 5s 102us/step - loss: 0.6915 - accuracy: 0.7838 - val_loss: 1.5803 - val_accuracy: 0.4909\n",
      "Epoch 40/50\n",
      "50000/50000 [==============================] - 5s 102us/step - loss: 0.6726 - accuracy: 0.7925 - val_loss: 1.5643 - val_accuracy: 0.5039\n",
      "Epoch 41/50\n",
      "50000/50000 [==============================] - 5s 103us/step - loss: 0.6526 - accuracy: 0.8001 - val_loss: 1.5694 - val_accuracy: 0.4975\n",
      "Epoch 42/50\n",
      "50000/50000 [==============================] - 5s 103us/step - loss: 0.6374 - accuracy: 0.8047 - val_loss: 1.6006 - val_accuracy: 0.4961\n",
      "Epoch 43/50\n",
      "50000/50000 [==============================] - 5s 104us/step - loss: 0.6188 - accuracy: 0.8130 - val_loss: 1.6045 - val_accuracy: 0.4984\n",
      "Epoch 44/50\n",
      "50000/50000 [==============================] - 5s 103us/step - loss: 0.6009 - accuracy: 0.8206 - val_loss: 1.6195 - val_accuracy: 0.4921\n",
      "Epoch 45/50\n",
      "50000/50000 [==============================] - 5s 102us/step - loss: 0.5835 - accuracy: 0.8265 - val_loss: 1.6266 - val_accuracy: 0.4908\n",
      "Epoch 46/50\n",
      "50000/50000 [==============================] - 5s 102us/step - loss: 0.5644 - accuracy: 0.8347 - val_loss: 1.6438 - val_accuracy: 0.4990\n",
      "Epoch 47/50\n",
      "50000/50000 [==============================] - 5s 102us/step - loss: 0.5483 - accuracy: 0.8403 - val_loss: 1.6485 - val_accuracy: 0.4937\n",
      "Epoch 48/50\n",
      "50000/50000 [==============================] - 5s 102us/step - loss: 0.5313 - accuracy: 0.8486 - val_loss: 1.6451 - val_accuracy: 0.4933\n",
      "Epoch 49/50\n",
      "50000/50000 [==============================] - 5s 102us/step - loss: 0.5155 - accuracy: 0.8545 - val_loss: 1.6680 - val_accuracy: 0.4917\n",
      "Epoch 50/50\n",
      "50000/50000 [==============================] - 5s 104us/step - loss: 0.4971 - accuracy: 0.8619 - val_loss: 1.6788 - val_accuracy: 0.4943\n"
     ]
    }
   ],
   "source": [
    "model = build_mlp(input_shape=x_train.shape[1:])\n",
    "model.summary()\n",
    "optimizer = keras.optimizers.SGD(lr=LEARNING_RATE, nesterov=True, momentum=MOMENTUM)\n",
    "model.compile(loss=\"categorical_crossentropy\", metrics=[\"accuracy\"], optimizer=optimizer)\n",
    "\n",
    "model.fit(x_train, y_train, \n",
    "          epochs=EPOCHS, \n",
    "          batch_size=BATCH_SIZE, \n",
    "          validation_data=(x_test, y_test), \n",
    "          shuffle=True,\n",
    "          callbacks=[earlystop]\n",
    "         )\n",
    "\n",
    "# Collect results\n",
    "train_loss = model.history.history[\"loss\"]\n",
    "valid_loss = model.history.history[\"val_loss\"]\n",
    "train_acc = model.history.history[\"accuracy\"]\n",
    "valid_acc = model.history.history[\"val_accuracy\"]"
   ]
  },
  {
   "cell_type": "code",
   "execution_count": 10,
   "metadata": {},
   "outputs": [
    {
     "data": {
      "image/png": "[encoded data removed]",
      "text/plain": [
       "<Figure size 432x288 with 1 Axes>"
      ]
     },
     "metadata": {
      "needs_background": "light"
     },
     "output_type": "display_data"
    },
    {
     "data": {
      "image/png": "[encoded data removed]",
      "text/plain": [
       "<Figure size 432x288 with 1 Axes>"
      ]
     },
     "metadata": {
      "needs_background": "light"
     },
     "output_type": "display_data"
    }
   ],
   "source": [
    "import matplotlib.pyplot as plt\n",
    "%matplotlib inline\n",
    "\n",
    "plt.plot(range(len(train_loss)), train_loss, label=\"train loss\")\n",
    "plt.plot(range(len(valid_loss)), valid_loss, label=\"valid loss\")\n",
    "plt.legend()\n",
    "plt.title(\"Loss\")\n",
    "plt.show()\n",
    "\n",
    "plt.plot(range(len(train_acc)), train_acc, label=\"train accuracy\")\n",
    "plt.plot(range(len(valid_acc)), valid_acc, label=\"valid accuracy\")\n",
    "plt.legend()\n",
    "plt.title(\"Accuracy\")\n",
    "plt.show()\n"
   ]
  },
  {
   "cell_type": "code",
   "execution_count": 11,
   "metadata": {},
   "outputs": [],
   "source": [
    "#調整 earlystop 的等待次數至 25\n",
    "#最佳泛化準確率為0.5005"
   ]
  },
  {
   "cell_type": "code",
   "execution_count": 12,
   "metadata": {},
   "outputs": [],
   "source": [
    "\"\"\"\n",
    "# 載入 Callbacks, 並將 monitor 設定為監控 validation loss\n",
    "\"\"\"\n",
    "from keras.callbacks import EarlyStopping\n",
    "\n",
    "earlystop = EarlyStopping(monitor=\"Validation Accuracy\", \n",
    "                          patience=25, \n",
    "                          verbose=1\n",
    "                          )"
   ]
  },
  {
   "cell_type": "code",
   "execution_count": 13,
   "metadata": {},
   "outputs": [
    {
     "name": "stdout",
     "output_type": "stream",
     "text": [
      "Model: \"model_2\"\n",
      "_________________________________________________________________\n",
      "Layer (type)                 Output Shape              Param #   \n",
      "=================================================================\n",
      "input_2 (InputLayer)         (None, 3072)              0         \n",
      "_________________________________________________________________\n",
      "hidden_layer1 (Dense)        (None, 512)               1573376   \n",
      "_________________________________________________________________\n",
      "batch_normalization_4 (Batch (None, 512)               2048      \n",
      "_________________________________________________________________\n",
      "hidden_layer2 (Dense)        (None, 256)               131328    \n",
      "_________________________________________________________________\n",
      "batch_normalization_5 (Batch (None, 256)               1024      \n",
      "_________________________________________________________________\n",
      "hidden_layer3 (Dense)        (None, 128)               32896     \n",
      "_________________________________________________________________\n",
      "batch_normalization_6 (Batch (None, 128)               512       \n",
      "_________________________________________________________________\n",
      "output (Dense)               (None, 10)                1290      \n",
      "=================================================================\n",
      "Total params: 1,742,474\n",
      "Trainable params: 1,740,682\n",
      "Non-trainable params: 1,792\n",
      "_________________________________________________________________\n",
      "Train on 50000 samples, validate on 10000 samples\n",
      "Epoch 1/50\n",
      "50000/50000 [==============================] - 6s 114us/step - loss: 2.2307 - accuracy: 0.2681 - val_loss: 2.1100 - val_accuracy: 0.2330\n",
      "Epoch 2/50\n",
      " 1024/50000 [..............................] - ETA: 4s - loss: 1.8947 - accuracy: 0.3398"
     ]
    },
    {
     "name": "stderr",
     "output_type": "stream",
     "text": [
      "//anaconda3/lib/python3.7/site-packages/keras/callbacks/callbacks.py:846: RuntimeWarning: Early stopping conditioned on metric `Validation Accuracy` which is not available. Available metrics are: val_loss,val_accuracy,loss,accuracy\n",
      "  (self.monitor, ','.join(list(logs.keys()))), RuntimeWarning\n"
     ]
    },
    {
     "name": "stdout",
     "output_type": "stream",
     "text": [
      "50000/50000 [==============================] - 5s 102us/step - loss: 1.7343 - accuracy: 0.3980 - val_loss: 1.9512 - val_accuracy: 0.3113\n",
      "Epoch 3/50\n",
      "50000/50000 [==============================] - 5s 102us/step - loss: 1.6075 - accuracy: 0.4386 - val_loss: 1.8008 - val_accuracy: 0.3795\n",
      "Epoch 4/50\n",
      "50000/50000 [==============================] - 5s 108us/step - loss: 1.5371 - accuracy: 0.4633 - val_loss: 1.6935 - val_accuracy: 0.4182\n",
      "Epoch 5/50\n",
      "50000/50000 [==============================] - 5s 104us/step - loss: 1.4819 - accuracy: 0.4842 - val_loss: 1.6325 - val_accuracy: 0.4320\n",
      "Epoch 6/50\n",
      "50000/50000 [==============================] - 5s 105us/step - loss: 1.4385 - accuracy: 0.5000 - val_loss: 1.5735 - val_accuracy: 0.4579\n",
      "Epoch 7/50\n",
      "50000/50000 [==============================] - 5s 104us/step - loss: 1.3982 - accuracy: 0.5127 - val_loss: 1.5460 - val_accuracy: 0.4604\n",
      "Epoch 8/50\n",
      "50000/50000 [==============================] - 5s 103us/step - loss: 1.3658 - accuracy: 0.5247 - val_loss: 1.5242 - val_accuracy: 0.4614\n",
      "Epoch 9/50\n",
      "50000/50000 [==============================] - 5s 103us/step - loss: 1.3319 - accuracy: 0.5362 - val_loss: 1.5022 - val_accuracy: 0.4739\n",
      "Epoch 10/50\n",
      "50000/50000 [==============================] - 5s 103us/step - loss: 1.3014 - accuracy: 0.5477 - val_loss: 1.5054 - val_accuracy: 0.4685\n",
      "Epoch 11/50\n",
      "50000/50000 [==============================] - 5s 103us/step - loss: 1.2735 - accuracy: 0.5569 - val_loss: 1.4827 - val_accuracy: 0.4803\n",
      "Epoch 12/50\n",
      "50000/50000 [==============================] - 5s 103us/step - loss: 1.2447 - accuracy: 0.5679 - val_loss: 1.4767 - val_accuracy: 0.4829\n",
      "Epoch 13/50\n",
      "50000/50000 [==============================] - 5s 104us/step - loss: 1.2183 - accuracy: 0.5776 - val_loss: 1.4689 - val_accuracy: 0.4785\n",
      "Epoch 14/50\n",
      "50000/50000 [==============================] - 5s 104us/step - loss: 1.1936 - accuracy: 0.5871 - val_loss: 1.4655 - val_accuracy: 0.4855\n",
      "Epoch 15/50\n",
      "50000/50000 [==============================] - 5s 104us/step - loss: 1.1701 - accuracy: 0.5970 - val_loss: 1.4744 - val_accuracy: 0.4804\n",
      "Epoch 16/50\n",
      "50000/50000 [==============================] - 5s 103us/step - loss: 1.1458 - accuracy: 0.6063 - val_loss: 1.4601 - val_accuracy: 0.4867\n",
      "Epoch 17/50\n",
      "50000/50000 [==============================] - 5s 103us/step - loss: 1.1248 - accuracy: 0.6135 - val_loss: 1.4592 - val_accuracy: 0.4894\n",
      "Epoch 18/50\n",
      "50000/50000 [==============================] - 5s 104us/step - loss: 1.1014 - accuracy: 0.6245 - val_loss: 1.4590 - val_accuracy: 0.4931\n",
      "Epoch 19/50\n",
      "50000/50000 [==============================] - 5s 104us/step - loss: 1.0773 - accuracy: 0.6331 - val_loss: 1.4646 - val_accuracy: 0.4904\n",
      "Epoch 20/50\n",
      "50000/50000 [==============================] - 5s 103us/step - loss: 1.0544 - accuracy: 0.6405 - val_loss: 1.4549 - val_accuracy: 0.4949\n",
      "Epoch 21/50\n",
      "50000/50000 [==============================] - 5s 104us/step - loss: 1.0333 - accuracy: 0.6491 - val_loss: 1.4603 - val_accuracy: 0.4930\n",
      "Epoch 22/50\n",
      "50000/50000 [==============================] - 5s 102us/step - loss: 1.0123 - accuracy: 0.6562 - val_loss: 1.4742 - val_accuracy: 0.4930\n",
      "Epoch 23/50\n",
      "50000/50000 [==============================] - 5s 107us/step - loss: 0.9917 - accuracy: 0.6652 - val_loss: 1.4704 - val_accuracy: 0.4936\n",
      "Epoch 24/50\n",
      "50000/50000 [==============================] - 5s 104us/step - loss: 0.9705 - accuracy: 0.6734 - val_loss: 1.4674 - val_accuracy: 0.4943\n",
      "Epoch 25/50\n",
      "50000/50000 [==============================] - 5s 103us/step - loss: 0.9502 - accuracy: 0.6816 - val_loss: 1.4703 - val_accuracy: 0.4949\n",
      "Epoch 26/50\n",
      "50000/50000 [==============================] - 5s 103us/step - loss: 0.9301 - accuracy: 0.6884 - val_loss: 1.4741 - val_accuracy: 0.5000\n",
      "Epoch 27/50\n",
      "50000/50000 [==============================] - 5s 102us/step - loss: 0.9104 - accuracy: 0.6979 - val_loss: 1.4886 - val_accuracy: 0.4957\n",
      "Epoch 28/50\n",
      "50000/50000 [==============================] - 5s 102us/step - loss: 0.8916 - accuracy: 0.7047 - val_loss: 1.4812 - val_accuracy: 0.4942\n",
      "Epoch 29/50\n",
      "50000/50000 [==============================] - 5s 102us/step - loss: 0.8683 - accuracy: 0.7132 - val_loss: 1.4869 - val_accuracy: 0.4940\n",
      "Epoch 30/50\n",
      "50000/50000 [==============================] - 5s 104us/step - loss: 0.8478 - accuracy: 0.7225 - val_loss: 1.5002 - val_accuracy: 0.4948\n",
      "Epoch 31/50\n",
      "50000/50000 [==============================] - 5s 102us/step - loss: 0.8289 - accuracy: 0.7284 - val_loss: 1.5011 - val_accuracy: 0.4977\n",
      "Epoch 32/50\n",
      "50000/50000 [==============================] - 5s 102us/step - loss: 0.8080 - accuracy: 0.7365 - val_loss: 1.5055 - val_accuracy: 0.5005\n",
      "Epoch 33/50\n",
      "50000/50000 [==============================] - 5s 102us/step - loss: 0.7906 - accuracy: 0.7441 - val_loss: 1.5198 - val_accuracy: 0.4988\n",
      "Epoch 34/50\n",
      "50000/50000 [==============================] - 5s 103us/step - loss: 0.7713 - accuracy: 0.7495 - val_loss: 1.5391 - val_accuracy: 0.4964\n",
      "Epoch 35/50\n",
      "50000/50000 [==============================] - 5s 103us/step - loss: 0.7529 - accuracy: 0.7580 - val_loss: 1.5299 - val_accuracy: 0.4986\n",
      "Epoch 36/50\n",
      "50000/50000 [==============================] - 5s 105us/step - loss: 0.7315 - accuracy: 0.7676 - val_loss: 1.5428 - val_accuracy: 0.4950\n",
      "Epoch 37/50\n",
      "50000/50000 [==============================] - 5s 103us/step - loss: 0.7147 - accuracy: 0.7729 - val_loss: 1.5533 - val_accuracy: 0.4947\n",
      "Epoch 38/50\n",
      "50000/50000 [==============================] - 5s 102us/step - loss: 0.6955 - accuracy: 0.7810 - val_loss: 1.5699 - val_accuracy: 0.4894\n",
      "Epoch 39/50\n",
      "50000/50000 [==============================] - 5s 102us/step - loss: 0.6765 - accuracy: 0.7897 - val_loss: 1.6022 - val_accuracy: 0.4879\n",
      "Epoch 40/50\n",
      "50000/50000 [==============================] - 5s 103us/step - loss: 0.6582 - accuracy: 0.7961 - val_loss: 1.5817 - val_accuracy: 0.4920\n",
      "Epoch 41/50\n",
      "50000/50000 [==============================] - 5s 103us/step - loss: 0.6393 - accuracy: 0.8047 - val_loss: 1.5958 - val_accuracy: 0.4979\n",
      "Epoch 42/50\n",
      "50000/50000 [==============================] - 5s 102us/step - loss: 0.6216 - accuracy: 0.8087 - val_loss: 1.5909 - val_accuracy: 0.5002\n",
      "Epoch 43/50\n",
      "50000/50000 [==============================] - 5s 103us/step - loss: 0.6055 - accuracy: 0.8185 - val_loss: 1.6172 - val_accuracy: 0.4918\n",
      "Epoch 44/50\n",
      "50000/50000 [==============================] - 5s 103us/step - loss: 0.5842 - accuracy: 0.8276 - val_loss: 1.6356 - val_accuracy: 0.4912\n",
      "Epoch 45/50\n",
      "50000/50000 [==============================] - 5s 103us/step - loss: 0.5687 - accuracy: 0.8326 - val_loss: 1.6390 - val_accuracy: 0.4908\n",
      "Epoch 46/50\n",
      "50000/50000 [==============================] - 5s 104us/step - loss: 0.5507 - accuracy: 0.8404 - val_loss: 1.6497 - val_accuracy: 0.4951\n",
      "Epoch 47/50\n",
      "50000/50000 [==============================] - 5s 103us/step - loss: 0.5357 - accuracy: 0.8440 - val_loss: 1.6596 - val_accuracy: 0.4894\n",
      "Epoch 48/50\n",
      "50000/50000 [==============================] - 5s 105us/step - loss: 0.5177 - accuracy: 0.8529 - val_loss: 1.6811 - val_accuracy: 0.4919\n",
      "Epoch 49/50\n",
      "50000/50000 [==============================] - 5s 102us/step - loss: 0.5010 - accuracy: 0.8589 - val_loss: 1.6870 - val_accuracy: 0.4930\n",
      "Epoch 50/50\n",
      "50000/50000 [==============================] - 5s 103us/step - loss: 0.4869 - accuracy: 0.8650 - val_loss: 1.7070 - val_accuracy: 0.4916\n"
     ]
    }
   ],
   "source": [
    "model = build_mlp(input_shape=x_train.shape[1:])\n",
    "model.summary()\n",
    "optimizer = keras.optimizers.SGD(lr=LEARNING_RATE, nesterov=True, momentum=MOMENTUM)\n",
    "model.compile(loss=\"categorical_crossentropy\", metrics=[\"accuracy\"], optimizer=optimizer)\n",
    "\n",
    "model.fit(x_train, y_train, \n",
    "          epochs=EPOCHS, \n",
    "          batch_size=BATCH_SIZE, \n",
    "          validation_data=(x_test, y_test), \n",
    "          shuffle=True,\n",
    "          callbacks=[earlystop]\n",
    "         )\n",
    "\n",
    "# Collect results\n",
    "train_loss = model.history.history[\"loss\"]\n",
    "valid_loss = model.history.history[\"val_loss\"]\n",
    "train_acc = model.history.history[\"accuracy\"]\n",
    "valid_acc = model.history.history[\"val_accuracy\"]"
   ]
  },
  {
   "cell_type": "code",
   "execution_count": 14,
   "metadata": {},
   "outputs": [
    {
     "data": {
      "image/png": "[encoded data removed]",
      "text/plain": [
       "<Figure size 432x288 with 1 Axes>"
      ]
     },
     "metadata": {
      "needs_background": "light"
     },
     "output_type": "display_data"
    },
    {
     "data": {
      "image/png": "[encoded data removed]",
      "text/plain": [
       "<Figure size 432x288 with 1 Axes>"
      ]
     },
     "metadata": {
      "needs_background": "light"
     },
     "output_type": "display_data"
    }
   ],
   "source": [
    "import matplotlib.pyplot as plt\n",
    "%matplotlib inline\n",
    "\n",
    "plt.plot(range(len(train_loss)), train_loss, label=\"train loss\")\n",
    "plt.plot(range(len(valid_loss)), valid_loss, label=\"valid loss\")\n",
    "plt.legend()\n",
    "plt.title(\"Loss\")\n",
    "plt.show()\n",
    "\n",
    "plt.plot(range(len(train_acc)), train_acc, label=\"train accuracy\")\n",
    "plt.plot(range(len(valid_acc)), valid_acc, label=\"valid accuracy\")\n",
    "plt.legend()\n",
    "plt.title(\"Accuracy\")\n",
    "plt.show()"
   ]
  },
  {
   "cell_type": "code",
   "execution_count": null,
   "metadata": {},
   "outputs": [],
   "source": [
    "#小結：\n",
    "#調整 earlystop 的等待次數至 10 ＝>最佳泛化準確率為0.5039\n",
    "#調整 earlystop 的等待次數至 25=>最佳泛化準確率為0.5005\n",
    "#由以上可得知,最佳泛化準確率大致分布於0.49~0.51之間,且 earlystop 次數並無助於泛化準確率之提升."
   ]
  }
 ],
 "metadata": {
  "kernelspec": {
   "display_name": "Python 3",
   "language": "python",
   "name": "python3"
  },
  "language_info": {
   "codemirror_mode": {
    "name": "ipython",
    "version": 3
   },
   "file_extension": ".py",
   "mimetype": "text/x-python",
   "name": "python",
   "nbconvert_exporter": "python",
   "pygments_lexer": "ipython3",
   "version": "3.7.3"
  }
 },
 "nbformat": 4,
 "nbformat_minor": 2
}
