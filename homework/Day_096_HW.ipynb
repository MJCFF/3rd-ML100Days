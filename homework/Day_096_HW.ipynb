{
 "cells": [
  {
   "cell_type": "markdown",
   "metadata": {},
   "source": [
    "# 請閱讀 Keras 官方範例 mnist_cnn.py   並回答下列問題。 \n",
    "\n",
    "\n",
    "\n",
    "僅有 70 行程式碼，請確保每一行的程式碼你都能夠理解目的 \n",
    "\n",
    "作業１：是否有對資料做標準化 (normalization)？ 如果有，在哪幾行？ \n",
    "\n",
    "作業２：使用的優化器 Optimizer 為何？ \n",
    "\n",
    "作業３：模型總共疊了幾層卷積層？ \n",
    "\n",
    "作業４：模型的參數量是多少？\n",
    "\n",
    "\n",
    "\n",
    "作業請直接提交Day096_Keras_CNN_layers.ipynb"
   ]
  },
  {
   "cell_type": "markdown",
   "metadata": {},
   "source": [
    "作業１：是否有對資料做標準化 (normalization)？ 如果有，在哪幾行？ \n",
    "\n",
    "Ans:將像素標準化-37,38行\n",
    "x_train /= 255\n",
    "x_test /= 255"
   ]
  },
  {
   "cell_type": "code",
   "execution_count": 4,
   "metadata": {},
   "outputs": [],
   "source": [
    "#作業２：使用的優化器 Optimizer 為何？ \n",
    "Ans:使用 Adadelta優化器"
   ]
  },
  {
   "cell_type": "code",
   "execution_count": 5,
   "metadata": {},
   "outputs": [],
   "source": [
    "#作業３：模型總共疊了幾層卷積層？ \n",
    "Ans:3層"
   ]
  },
  {
   "cell_type": "code",
   "execution_count": 6,
   "metadata": {},
   "outputs": [],
   "source": [
    "#作業４：模型的參數量是多少？\n",
    "Ans:參數量為1199882單位"
   ]
  },
  {
   "cell_type": "code",
   "execution_count": 10,
   "metadata": {},
   "outputs": [
    {
     "name": "stdout",
     "output_type": "stream",
     "text": [
      "x_train shape: (60000, 28, 28, 1)\n",
      "60000 train samples\n",
      "10000 test samples\n",
      "Train on 60000 samples, validate on 10000 samples\n",
      "Epoch 1/12\n",
      "60000/60000 [==============================] - 72s 1ms/step - loss: 0.2604 - accuracy: 0.9204 - val_loss: 0.0589 - val_accuracy: 0.9812\n",
      "Epoch 2/12\n",
      "60000/60000 [==============================] - 68s 1ms/step - loss: 0.0879 - accuracy: 0.9732 - val_loss: 0.0378 - val_accuracy: 0.9871\n",
      "Epoch 3/12\n",
      "60000/60000 [==============================] - 68s 1ms/step - loss: 0.0676 - accuracy: 0.9807 - val_loss: 0.0356 - val_accuracy: 0.9879\n",
      "Epoch 4/12\n",
      "60000/60000 [==============================] - 69s 1ms/step - loss: 0.0522 - accuracy: 0.9843 - val_loss: 0.0314 - val_accuracy: 0.9893\n",
      "Epoch 5/12\n",
      "60000/60000 [==============================] - 69s 1ms/step - loss: 0.0458 - accuracy: 0.9866 - val_loss: 0.0335 - val_accuracy: 0.9885\n",
      "Epoch 6/12\n",
      "60000/60000 [==============================] - 69s 1ms/step - loss: 0.0412 - accuracy: 0.9876 - val_loss: 0.0315 - val_accuracy: 0.9892\n",
      "Epoch 7/12\n",
      "60000/60000 [==============================] - 70s 1ms/step - loss: 0.0376 - accuracy: 0.9887 - val_loss: 0.0258 - val_accuracy: 0.9918\n",
      "Epoch 8/12\n",
      "60000/60000 [==============================] - 71s 1ms/step - loss: 0.0334 - accuracy: 0.9898 - val_loss: 0.0249 - val_accuracy: 0.9917\n",
      "Epoch 9/12\n",
      "60000/60000 [==============================] - 72s 1ms/step - loss: 0.0316 - accuracy: 0.9901 - val_loss: 0.0295 - val_accuracy: 0.9918\n",
      "Epoch 10/12\n",
      "60000/60000 [==============================] - 70s 1ms/step - loss: 0.0279 - accuracy: 0.9915 - val_loss: 0.0280 - val_accuracy: 0.9916\n",
      "Epoch 11/12\n",
      "60000/60000 [==============================] - 70s 1ms/step - loss: 0.0266 - accuracy: 0.9918 - val_loss: 0.0272 - val_accuracy: 0.9913\n",
      "Epoch 12/12\n",
      "60000/60000 [==============================] - 74s 1ms/step - loss: 0.0250 - accuracy: 0.9921 - val_loss: 0.0266 - val_accuracy: 0.9923\n",
      "Test loss: 0.026635632106056618\n",
      "Test accuracy: 0.9922999739646912\n"
     ]
    }
   ],
   "source": [
    "'''Trains a simple convnet on the MNIST dataset.\n",
    "Gets to 99.25% test accuracy after 12 epochs\n",
    "(there is still a lot of margin for parameter tuning).\n",
    "16 seconds per epoch on a GRID K520 GPU.\n",
    "'''\n",
    "\n",
    "from __future__ import print_function\n",
    "import keras\n",
    "from keras.datasets import mnist\n",
    "from keras.models import Sequential\n",
    "from keras.layers import Dense, Dropout, Flatten\n",
    "from keras.layers import Conv2D, MaxPooling2D\n",
    "from keras import backend as K\n",
    "\n",
    "batch_size = 128\n",
    "num_classes = 10\n",
    "epochs = 12\n",
    "\n",
    "# input image dimensions\n",
    "img_rows, img_cols = 28, 28\n",
    "\n",
    "# the data, split between train and test sets\n",
    "(x_train, y_train), (x_test, y_test) = mnist.load_data()\n",
    "\n",
    "if K.image_data_format() == 'channels_first':\n",
    "    x_train = x_train.reshape(x_train.shape[0], 1, img_rows, img_cols)\n",
    "    x_test = x_test.reshape(x_test.shape[0], 1, img_rows, img_cols)\n",
    "    input_shape = (1, img_rows, img_cols)\n",
    "else:\n",
    "    x_train = x_train.reshape(x_train.shape[0], img_rows, img_cols, 1)\n",
    "    x_test = x_test.reshape(x_test.shape[0], img_rows, img_cols, 1)\n",
    "    input_shape = (img_rows, img_cols, 1)\n",
    "\n",
    "x_train = x_train.astype('float32')\n",
    "x_test = x_test.astype('float32')\n",
    "x_train /= 255\n",
    "x_test /= 255\n",
    "print('x_train shape:', x_train.shape)\n",
    "print(x_train.shape[0], 'train samples')\n",
    "print(x_test.shape[0], 'test samples')\n",
    "\n",
    "# convert class vectors to binary class matrices\n",
    "y_train = keras.utils.to_categorical(y_train, num_classes)\n",
    "y_test = keras.utils.to_categorical(y_test, num_classes)\n",
    "\n",
    "model = Sequential()\n",
    "model.add(Conv2D(32, kernel_size=(3, 3),\n",
    "                 activation='relu',\n",
    "                 input_shape=input_shape))\n",
    "model.add(Conv2D(64, (3, 3), activation='relu'))\n",
    "model.add(MaxPooling2D(pool_size=(2, 2)))\n",
    "model.add(Dropout(0.25))\n",
    "model.add(Flatten())\n",
    "model.add(Dense(128, activation='relu'))\n",
    "model.add(Dropout(0.5))\n",
    "model.add(Dense(num_classes, activation='softmax'))\n",
    "\n",
    "model.compile(loss=keras.losses.categorical_crossentropy,\n",
    "              optimizer=keras.optimizers.Adadelta(),\n",
    "              metrics=['accuracy'])\n",
    "\n",
    "model.fit(x_train, y_train,\n",
    "          batch_size=batch_size,\n",
    "          epochs=epochs,\n",
    "          verbose=1,\n",
    "          validation_data=(x_test, y_test))\n",
    "score = model.evaluate(x_test, y_test, verbose=0)\n",
    "print('Test loss:', score[0])\n",
    "print('Test accuracy:', score[1])"
   ]
  },
  {
   "cell_type": "code",
   "execution_count": 11,
   "metadata": {},
   "outputs": [
    {
     "name": "stdout",
     "output_type": "stream",
     "text": [
      "\n",
      "---------- model.summary()  :  ----------\n",
      "\n",
      "Model: \"sequential_1\"\n",
      "_________________________________________________________________\n",
      "Layer (type)                 Output Shape              Param #   \n",
      "=================================================================\n",
      "conv2d_3 (Conv2D)            (None, 26, 26, 32)        320       \n",
      "_________________________________________________________________\n",
      "conv2d_4 (Conv2D)            (None, 24, 24, 64)        18496     \n",
      "_________________________________________________________________\n",
      "max_pooling2d_1 (MaxPooling2 (None, 12, 12, 64)        0         \n",
      "_________________________________________________________________\n",
      "dropout_1 (Dropout)          (None, 12, 12, 64)        0         \n",
      "_________________________________________________________________\n",
      "flatten_1 (Flatten)          (None, 9216)              0         \n",
      "_________________________________________________________________\n",
      "dense_1 (Dense)              (None, 128)               1179776   \n",
      "_________________________________________________________________\n",
      "dropout_2 (Dropout)          (None, 128)               0         \n",
      "_________________________________________________________________\n",
      "dense_2 (Dense)              (None, 10)                1290      \n",
      "=================================================================\n",
      "Total params: 1,199,882\n",
      "Trainable params: 1,199,882\n",
      "Non-trainable params: 0\n",
      "_________________________________________________________________\n",
      "Total Parameters：1199882\n"
     ]
    }
   ],
   "source": [
    "print(\"\\n---------- model.summary()  :  ----------\\n\")\n",
    "model.summary()\n",
    "\n",
    "# 模型建立完成後，統計參數總量\n",
    "print(\"Total Parameters：%d\" % model.count_params())"
   ]
  },
  {
   "cell_type": "code",
   "execution_count": null,
   "metadata": {},
   "outputs": [],
   "source": []
  }
 ],
 "metadata": {
  "kernelspec": {
   "display_name": "Python 3",
   "language": "python",
   "name": "python3"
  },
  "language_info": {
   "codemirror_mode": {
    "name": "ipython",
    "version": 3
   },
   "file_extension": ".py",
   "mimetype": "text/x-python",
   "name": "python",
   "nbconvert_exporter": "python",
   "pygments_lexer": "ipython3",
   "version": "3.7.3"
  }
 },
 "nbformat": 4,
 "nbformat_minor": 2
}
